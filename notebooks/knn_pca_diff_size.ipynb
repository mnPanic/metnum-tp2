{
 "cells": [
  {
   "cell_type": "markdown",
   "metadata": {},
   "source": [
    "## KNN+PCA wrapper##"
   ]
  },
  {
   "cell_type": "code",
   "execution_count": 5,
   "metadata": {},
   "outputs": [],
   "source": [
    "class KNNnPCAClassifier:\n",
    "    def __init__(self, k, alpha):\n",
    "        self.knn_classifier = metnum.KNNClassifier(k, \"distance_pow\")\n",
    "        self.pca = PCA(alpha)\n",
    "\n",
    "    def fit(self, X_train, y_train):\n",
    "        self.pca.fit(X_train)\n",
    "        self.knn_classifier.fit(self.pca.transform(X_train), y_train)\n",
    "    \n",
    "    def predict(self, X):\n",
    "        return self.knn_classifier.predict(self.pca.transform(X))"
   ]
  }
 ],
 "metadata": {
  "kernelspec": {
   "display_name": "Python 3",
   "language": "python",
   "name": "python3"
  },
  "language_info": {
   "codemirror_mode": {
    "name": "ipython",
    "version": 3
   },
   "file_extension": ".py",
   "mimetype": "text/x-python",
   "name": "python",
   "nbconvert_exporter": "python",
   "pygments_lexer": "ipython3",
   "version": "3.6.9"
  }
 },
 "nbformat": 4,
 "nbformat_minor": 4
}
