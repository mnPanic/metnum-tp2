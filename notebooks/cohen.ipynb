{
 "cells": [
  {
   "cell_type": "markdown",
   "metadata": {},
   "source": [
    "# kNN - Experimento variando K y tamaño de imagenes\n"
   ]
  },
  {
   "cell_type": "markdown",
   "metadata": {},
   "source": [
    "Definir los path al ejecutable de python 3.6 y sus librerías,\n",
    "de acuerdo al virtual env que estén corriendo."
   ]
  },
  {
   "cell_type": "code",
   "execution_count": null,
   "metadata": {},
   "outputs": [],
   "source": [
    "!cd .. && ./build.sh"
   ]
  },
  {
   "cell_type": "markdown",
   "metadata": {},
   "source": [
    "## Explorando los datos"
   ]
  },
  {
   "cell_type": "code",
   "execution_count": 22,
   "metadata": {},
   "outputs": [
    {
     "name": "stdout",
     "output_type": "stream",
     "text": [
      "The autoreload extension is already loaded. To reload it, use:\n",
      "  %reload_ext autoreload\n",
      "<class 'pandas.core.frame.DataFrame'>\n",
      "RangeIndex: 42000 entries, 0 to 41999\n",
      "Columns: 785 entries, label to pixel783\n",
      "dtypes: int64(785)\n",
      "memory usage: 251.5 MB\n"
     ]
    }
   ],
   "source": [
    "%load_ext autoreload\n",
    "%autoreload 2\n",
    "import pandas as pd\n",
    "\n",
    "df = pd.read_csv(\"../data/train.csv\")\n",
    "df.info()"
   ]
  },
  {
   "cell_type": "code",
   "execution_count": 23,
   "metadata": {},
   "outputs": [
    {
     "name": "stdout",
     "output_type": "stream",
     "text": [
      "33600\n"
     ]
    }
   ],
   "source": [
    "df.sample(frac=1)\n",
    "\n",
    "limit = int(0.8 * df.shape[0])\n",
    "#df = df[:5000]\n",
    "print(limit)"
   ]
  },
  {
   "cell_type": "code",
   "execution_count": 24,
   "metadata": {},
   "outputs": [
    {
     "name": "stdout",
     "output_type": "stream",
     "text": [
      "[[0 0 0 ... 0 0 0]\n",
      " [0 0 0 ... 0 0 0]\n",
      " [0 0 0 ... 0 0 0]\n",
      " ...\n",
      " [0 0 0 ... 0 0 0]\n",
      " [0 0 0 ... 0 0 0]\n",
      " [0 0 0 ... 0 0 0]]\n"
     ]
    }
   ],
   "source": [
    "df_train = df[:limit]\n",
    "df_val = df[limit:]\n",
    "\n",
    "\n",
    "X_t = df_train[df_train.columns[1:]].values\n",
    "y_t = df_train[\"label\"].values.reshape(-1, 1)"
   ]
  },
  {
   "cell_type": "code",
   "execution_count": 25,
   "metadata": {},
   "outputs": [],
   "source": [
    "class KNNnPCAClassifier:\n",
    "    def __init__(self, k, alpha):\n",
    "        self.knn_classifier = metnum.KNNClassifier(k, \"distance_pow\")\n",
    "        self.pca = metnum.PCA(alpha)\n",
    "\n",
    "    def fit(self, X_train, y_train):\n",
    "        self.pca.fit(X_train)\n",
    "        self.knn_classifier.fit(self.pca.transform(X_train), y_train)\n",
    "    \n",
    "    def predict(self, X):\n",
    "        return self.knn_classifier.predict(self.pca.transform(X))"
   ]
  },
  {
   "cell_type": "markdown",
   "metadata": {},
   "source": [
    "### Experimento"
   ]
  },
  {
   "cell_type": "code",
   "execution_count": 26,
   "metadata": {},
   "outputs": [
    {
     "data": {
      "text/plain": [
       "[{'kappa': 0.6649955765260985,\n",
       "  'accuracy_knn_pca': 0.9917840375586855,\n",
       "  'accuracy_knn': 0.994131455399061},\n",
       " {'kappa': 0.6660808435852372,\n",
       "  'accuracy_knn_pca': 0.9957894736842106,\n",
       "  'accuracy_knn': 0.9978947368421053},\n",
       " {'kappa': 0.7800823661549982,\n",
       "  'accuracy_knn_pca': 0.9725343320848939,\n",
       "  'accuracy_knn': 0.9637952559300874},\n",
       " {'kappa': 0.6179534250531136,\n",
       "  'accuracy_knn_pca': 0.9659863945578231,\n",
       "  'accuracy_knn': 0.9705215419501134},\n",
       " {'kappa': 0.6454730911210413,\n",
       "  'accuracy_knn_pca': 0.967940813810111,\n",
       "  'accuracy_knn': 0.967940813810111},\n",
       " {'kappa': 0.6994528190547717,\n",
       "  'accuracy_knn_pca': 0.965194109772423,\n",
       "  'accuracy_knn': 0.9665327978580991},\n",
       " {'kappa': 0.6909344490934448,\n",
       "  'accuracy_knn_pca': 0.9939831528279182,\n",
       "  'accuracy_knn': 0.9903730445246691},\n",
       " {'kappa': 0.5658863971190047,\n",
       "  'accuracy_knn_pca': 0.9807692307692307,\n",
       "  'accuracy_knn': 0.9796380090497737},\n",
       " {'kappa': 0.6402474864655839,\n",
       "  'accuracy_knn_pca': 0.9600997506234414,\n",
       "  'accuracy_knn': 0.9364089775561097},\n",
       " {'kappa': 0.7400364499157526,\n",
       "  'accuracy_knn_pca': 0.9595238095238096,\n",
       "  'accuracy_knn': 0.955952380952381}]"
      ]
     },
     "execution_count": 26,
     "metadata": {},
     "output_type": "execute_result"
    }
   ],
   "source": [
    "import metnum\n",
    "import pandas as pd\n",
    "from sklearn import metrics\n",
    "\n",
    "clf1 = KNNnPCAClassifier(7,38)\n",
    "clf2 = metnum.KNNClassifier(4, \"distance_pow\")\n",
    "\n",
    "clf1.fit(X_t, y_t)\n",
    "clf2.fit(X_t, y_t)\n",
    "\n",
    "scores = []\n",
    "\n",
    "for i in range(10):\n",
    "    df_digit = df_val[df_val[\"label\"] == i]\n",
    "    X_val = df_digit[df_digit.columns[1:]].values\n",
    "    y_val = df_digit[\"label\"].values.reshape(-1, 1)\n",
    "    y_pred_knnpca = clf1.predict(X_val)\n",
    "    y_pred_knn = clf2.predict(X_val)\n",
    "    \n",
    "    item = {\n",
    "        \"kappa\" : metrics.cohen_kappa_score(y_pred_knnpca, y_pred_knn),\n",
    "        \"accuracy_knn_pca\" : metrics.accuracy_score(y_pred_knnpca, y_val),\n",
    "        \"accuracy_knn\" : metrics.accuracy_score(y_pred_knn, y_val),\n",
    "        }\n",
    "    scores.append(item)\n",
    "    \n",
    "scores"
   ]
  },
  {
   "cell_type": "code",
   "execution_count": 27,
   "metadata": {},
   "outputs": [
    {
     "name": "stdout",
     "output_type": "stream",
     "text": [
      "Creating DataFrame...\n",
      "Finished!\n"
     ]
    }
   ],
   "source": [
    "print(\"Creating DataFrame...\")\n",
    "df_r = pd.DataFrame(scores)\n",
    "print(\"Finished!\")"
   ]
  },
  {
   "cell_type": "code",
   "execution_count": 28,
   "metadata": {},
   "outputs": [
    {
     "data": {
      "text/html": [
       "<div>\n",
       "<style scoped>\n",
       "    .dataframe tbody tr th:only-of-type {\n",
       "        vertical-align: middle;\n",
       "    }\n",
       "\n",
       "    .dataframe tbody tr th {\n",
       "        vertical-align: top;\n",
       "    }\n",
       "\n",
       "    .dataframe thead th {\n",
       "        text-align: right;\n",
       "    }\n",
       "</style>\n",
       "<table border=\"1\" class=\"dataframe\">\n",
       "  <thead>\n",
       "    <tr style=\"text-align: right;\">\n",
       "      <th></th>\n",
       "      <th>accuracy_knn</th>\n",
       "      <th>accuracy_knn_pca</th>\n",
       "      <th>kappa</th>\n",
       "    </tr>\n",
       "  </thead>\n",
       "  <tbody>\n",
       "    <tr>\n",
       "      <th>0</th>\n",
       "      <td>0.994131</td>\n",
       "      <td>0.991784</td>\n",
       "      <td>0.664996</td>\n",
       "    </tr>\n",
       "    <tr>\n",
       "      <th>1</th>\n",
       "      <td>0.997895</td>\n",
       "      <td>0.995789</td>\n",
       "      <td>0.666081</td>\n",
       "    </tr>\n",
       "    <tr>\n",
       "      <th>2</th>\n",
       "      <td>0.963795</td>\n",
       "      <td>0.972534</td>\n",
       "      <td>0.780082</td>\n",
       "    </tr>\n",
       "    <tr>\n",
       "      <th>3</th>\n",
       "      <td>0.970522</td>\n",
       "      <td>0.965986</td>\n",
       "      <td>0.617953</td>\n",
       "    </tr>\n",
       "    <tr>\n",
       "      <th>4</th>\n",
       "      <td>0.967941</td>\n",
       "      <td>0.967941</td>\n",
       "      <td>0.645473</td>\n",
       "    </tr>\n",
       "    <tr>\n",
       "      <th>5</th>\n",
       "      <td>0.966533</td>\n",
       "      <td>0.965194</td>\n",
       "      <td>0.699453</td>\n",
       "    </tr>\n",
       "    <tr>\n",
       "      <th>6</th>\n",
       "      <td>0.990373</td>\n",
       "      <td>0.993983</td>\n",
       "      <td>0.690934</td>\n",
       "    </tr>\n",
       "    <tr>\n",
       "      <th>7</th>\n",
       "      <td>0.979638</td>\n",
       "      <td>0.980769</td>\n",
       "      <td>0.565886</td>\n",
       "    </tr>\n",
       "    <tr>\n",
       "      <th>8</th>\n",
       "      <td>0.936409</td>\n",
       "      <td>0.960100</td>\n",
       "      <td>0.640247</td>\n",
       "    </tr>\n",
       "    <tr>\n",
       "      <th>9</th>\n",
       "      <td>0.955952</td>\n",
       "      <td>0.959524</td>\n",
       "      <td>0.740036</td>\n",
       "    </tr>\n",
       "  </tbody>\n",
       "</table>\n",
       "</div>"
      ],
      "text/plain": [
       "   accuracy_knn  accuracy_knn_pca     kappa\n",
       "0      0.994131          0.991784  0.664996\n",
       "1      0.997895          0.995789  0.666081\n",
       "2      0.963795          0.972534  0.780082\n",
       "3      0.970522          0.965986  0.617953\n",
       "4      0.967941          0.967941  0.645473\n",
       "5      0.966533          0.965194  0.699453\n",
       "6      0.990373          0.993983  0.690934\n",
       "7      0.979638          0.980769  0.565886\n",
       "8      0.936409          0.960100  0.640247\n",
       "9      0.955952          0.959524  0.740036"
      ]
     },
     "execution_count": 28,
     "metadata": {},
     "output_type": "execute_result"
    }
   ],
   "source": [
    "df_r"
   ]
  },
  {
   "cell_type": "code",
   "execution_count": 29,
   "metadata": {},
   "outputs": [],
   "source": [
    "df_r.to_csv(\"data/kappa.csv\", index=True)"
   ]
  }
 ],
 "metadata": {
  "kernelspec": {
   "display_name": "Python 3.8.2 64-bit ('metnum': venv)",
   "language": "python",
   "name": "python38264bitmetnumvenvc44a19ffde4845f8ad72094b1e6e18a8"
  },
  "language_info": {
   "codemirror_mode": {
    "name": "ipython",
    "version": 3
   },
   "file_extension": ".py",
   "mimetype": "text/x-python",
   "name": "python",
   "nbconvert_exporter": "python",
   "pygments_lexer": "ipython3",
   "version": "3.8.2"
  }
 },
 "nbformat": 4,
 "nbformat_minor": 2
}
