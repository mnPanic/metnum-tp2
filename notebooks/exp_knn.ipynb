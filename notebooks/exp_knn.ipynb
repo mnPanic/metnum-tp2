{
 "cells": [
  {
   "cell_type": "code",
   "execution_count": 28,
   "metadata": {},
   "outputs": [],
   "source": [
    "%config IPCompleter.greedy=True"
   ]
  },
  {
   "cell_type": "markdown",
   "metadata": {},
   "source": [
    "# Reconocimiento de dígitos con KNN"
   ]
  },
  {
   "cell_type": "markdown",
   "metadata": {},
   "source": [
    "Definir los path al ejecutable de python 3.6 y sus librerías,\n",
    "de acuerdo al virtual env que estén corriendo."
   ]
  },
  {
   "cell_type": "code",
   "execution_count": 29,
   "metadata": {},
   "outputs": [
    {
     "name": "stdout",
     "output_type": "stream",
     "text": [
      "mkdir: cannot create directory ‘build’: File exists\n",
      "-- The C compiler identification is GNU 7.4.0\n",
      "-- The CXX compiler identification is GNU 7.4.0\n",
      "-- Check for working C compiler: /usr/bin/cc\n",
      "-- Check for working C compiler: /usr/bin/cc -- works\n",
      "-- Detecting C compiler ABI info\n",
      "-- Detecting C compiler ABI info - done\n",
      "-- Detecting C compile features\n",
      "-- Detecting C compile features - done\n",
      "-- Check for working CXX compiler: /usr/bin/c++\n",
      "-- Check for working CXX compiler: /usr/bin/c++ -- works\n",
      "-- Detecting CXX compiler ABI info\n",
      "-- Detecting CXX compiler ABI info - done\n",
      "-- Detecting CXX compile features\n",
      "-- Detecting CXX compile features - done\n",
      "Release mode\n",
      "-- Found PythonInterp: /usr/bin/python (found version \"3.6.9\") \n",
      "-- Found PythonLibs: /usr/lib/x86_64-linux-gnu/libpython3.6m.so\n",
      "-- pybind11 v2.2.4\n",
      "-- Performing Test HAS_FLTO\n",
      "-- Performing Test HAS_FLTO - Success\n",
      "-- LTO enabled\n",
      "CMAKE_INSTALL_PREFIX=/home/zarthaxx/Desktop/metnum-tp2\n",
      "-- Configuring done\n",
      "-- Generating done\n",
      "-- Build files have been written to: /home/zarthaxx/Desktop/metnum-tp2/build\n",
      "\u001b[35m\u001b[1mScanning dependencies of target tp2\u001b[0m\n",
      "[ 10%] \u001b[32mBuilding CXX object CMakeFiles/tp2.dir/src/main.cpp.o\u001b[0m\n",
      "[ 20%] \u001b[32mBuilding CXX object CMakeFiles/tp2.dir/src/knn.cpp.o\u001b[0m\n",
      "[ 30%] \u001b[32mBuilding CXX object CMakeFiles/tp2.dir/src/pca.cpp.o\u001b[0m\n",
      "[ 40%] \u001b[32mBuilding CXX object CMakeFiles/tp2.dir/src/eigen.cpp.o\u001b[0m\n",
      "[ 50%] \u001b[32m\u001b[1mLinking CXX executable tp2\u001b[0m\n",
      "[ 50%] Built target tp2\n",
      "\u001b[35m\u001b[1mScanning dependencies of target metnum\u001b[0m\n",
      "[ 60%] \u001b[32mBuilding CXX object CMakeFiles/metnum.dir/src/metnum.cpp.o\u001b[0m\n",
      "[ 70%] \u001b[32mBuilding CXX object CMakeFiles/metnum.dir/src/knn.cpp.o\u001b[0m\n",
      "[ 80%] \u001b[32mBuilding CXX object CMakeFiles/metnum.dir/src/pca.cpp.o\u001b[0m\n",
      "[ 90%] \u001b[32mBuilding CXX object CMakeFiles/metnum.dir/src/eigen.cpp.o\u001b[0m\n",
      "[100%] \u001b[32m\u001b[1mLinking CXX shared module metnum.cpython-36m-x86_64-linux-gnu.so\u001b[0m\n",
      "[100%] Built target metnum\n",
      "\u001b[36mInstall the project...\u001b[0m\n",
      "-- Install configuration: \"Release\"\n",
      "-- Installing: /home/zarthaxx/Desktop/metnum-tp2/notebooks/metnum.cpython-36m-x86_64-linux-gnu.so\n"
     ]
    }
   ],
   "source": [
    "!cd .. && mkdir build\n",
    "!cd ../build/ && rm -rf *\n",
    "!cd ../build && cmake \\\n",
    "  -DPYTHON_EXECUTABLE=\"$(which python)\" \\\n",
    "  -DCMAKE_BUILD_TYPE=Release ..\n",
    "!cd ../build && make install"
   ]
  },
  {
   "cell_type": "code",
   "execution_count": 140,
   "metadata": {},
   "outputs": [
    {
     "name": "stdout",
     "output_type": "stream",
     "text": [
      "/home/zarthaxx/Desktop/metnum-tp2/notebooks\n",
      "Python 3.6.9\n"
     ]
    }
   ],
   "source": [
    "# Verifico la correcta instalación. Si no falla el import está OK\n",
    "!pwd\n",
    "!python --version\n",
    "import metnum\n"
   ]
  },
  {
   "cell_type": "markdown",
   "metadata": {},
   "source": [
    "## Explorando los datos"
   ]
  },
  {
   "cell_type": "code",
   "execution_count": 141,
   "metadata": {},
   "outputs": [
    {
     "name": "stdout",
     "output_type": "stream",
     "text": [
      "The autoreload extension is already loaded. To reload it, use:\n",
      "  %reload_ext autoreload\n"
     ]
    }
   ],
   "source": [
    "%load_ext autoreload\n",
    "%autoreload 2\n",
    "import pandas as pd\n",
    "\n",
    "df_train = pd.read_csv(\"../data/train.csv\")"
   ]
  },
  {
   "cell_type": "markdown",
   "metadata": {},
   "source": [
    "Es un csv, con columnas por cada pixel"
   ]
  },
  {
   "cell_type": "markdown",
   "metadata": {},
   "source": [
    "### Reducir el dataset\n",
    "\n",
    "Ya que el dataset es grande, me quedo con una porción de éste\n",
    "\n",
    "**<font color=red>ESTO ES SOLO PARA HACER PRUEBAS. CUANDO REPORTEN LOS RESULTADOS, USAR DATASET COMPLETO</font>**"
   ]
  },
  {
   "cell_type": "code",
   "execution_count": 142,
   "metadata": {},
   "outputs": [],
   "source": [
    "df_train = df_train[:5000]"
   ]
  },
  {
   "cell_type": "markdown",
   "metadata": {},
   "source": [
    "En el primer caracter está el dígito a reconocer. Llamamos a esto `y_train`"
   ]
  },
  {
   "cell_type": "code",
   "execution_count": 143,
   "metadata": {},
   "outputs": [
    {
     "data": {
      "text/plain": [
       "((5000, 784), (5000, 1))"
      ]
     },
     "execution_count": 143,
     "metadata": {},
     "output_type": "execute_result"
    }
   ],
   "source": [
    "# Uso values para mandar todo a arrays de numpy\n",
    "X = df_train[df_train.columns[1:]].values\n",
    "y = df_train[\"label\"].values.reshape(-1, 1)\n",
    "\n",
    "X.shape, y.shape"
   ]
  },
  {
   "cell_type": "markdown",
   "metadata": {},
   "source": [
    "Convierto el resto a matrices de 28 x 28"
   ]
  },
  {
   "cell_type": "markdown",
   "metadata": {},
   "source": [
    "A ver cómo se ven..."
   ]
  },
  {
   "cell_type": "code",
   "execution_count": 144,
   "metadata": {},
   "outputs": [
    {
     "name": "stdout",
     "output_type": "stream",
     "text": [
      "Supuestamente es un 7\n"
     ]
    },
    {
     "data": {
      "text/plain": [
       "<matplotlib.image.AxesImage at 0x7f25641eb048>"
      ]
     },
     "execution_count": 144,
     "metadata": {},
     "output_type": "execute_result"
    },
    {
     "data": {
      "image/png": "[encoded data removed]",
      "text/plain": [
       "<Figure size 432x288 with 1 Axes>"
      ]
     },
     "metadata": {
      "needs_background": "light"
     },
     "output_type": "display_data"
    }
   ],
   "source": [
    "import matplotlib.pyplot as plt\n",
    "\n",
    "num = 1917\n",
    "\n",
    "print(f\"Supuestamente es un {int(y[num])}\")\n",
    "\n",
    "img = X[num].reshape(28, 28)\n",
    "plt.imshow(img, cmap=\"Greys\")\n"
   ]
  },
  {
   "cell_type": "markdown",
   "metadata": {},
   "source": [
    "### Balance de clases\n",
    "\n",
    "¿Tenemos la misma cantidad de cada número?"
   ]
  },
  {
   "cell_type": "code",
   "execution_count": 145,
   "metadata": {},
   "outputs": [
    {
     "data": {
      "text/plain": [
       "1    0.1116\n",
       "2    0.1090\n",
       "6    0.1032\n",
       "7    0.1012\n",
       "0    0.0988\n",
       "3    0.0960\n",
       "9    0.0956\n",
       "8    0.0954\n",
       "4    0.0954\n",
       "5    0.0938\n",
       "Name: label, dtype: float64"
      ]
     },
     "execution_count": 145,
     "metadata": {},
     "output_type": "execute_result"
    }
   ],
   "source": [
    "df_train[\"label\"].value_counts(normalize=True)"
   ]
  },
  {
   "cell_type": "markdown",
   "metadata": {},
   "source": [
    "No: tenemos más 1 que 5, pero tampoco está tan desbalanceado"
   ]
  },
  {
   "cell_type": "markdown",
   "metadata": {},
   "source": [
    "## Classifier parameters tunning"
   ]
  },
  {
   "cell_type": "markdown",
   "metadata": {},
   "source": [
    "### Scoring metrics"
   ]
  },
  {
   "cell_type": "markdown",
   "metadata": {},
   "source": [
    "Recibo el k de kNN, el dataset de entrenamiento y el de clasificacion, y devuelvo la accuracy del clasificador bajo estos valores"
   ]
  },
  {
   "cell_type": "code",
   "execution_count": 146,
   "metadata": {},
   "outputs": [],
   "source": [
    "from sklearn.metrics import accuracy_score\n",
    "\n",
    "def calculate_accuracy(classifier, X_val, y_val) -> float:\n",
    "    \n",
    "    y_pred = classifier.predict(X_val)\n",
    "\n",
    "    accuracy = accuracy_score(y_val, y_pred)   \n",
    "    \n",
    "    return accuracy"
   ]
  },
  {
   "cell_type": "markdown",
   "metadata": {},
   "source": [
    "### Cross-validation"
   ]
  },
  {
   "cell_type": "code",
   "execution_count": 189,
   "metadata": {},
   "outputs": [],
   "source": [
    "import time\n",
    "import numpy as np\n",
    "import statistics \n",
    "\n",
    "def cross_validate(estimator, X_dataset, y_dataset, scoring, K):\n",
    "    dict_scores = {}\n",
    "    dict_scores[\"score\"] = []\n",
    "    dict_scores[\"score_time\"] = []\n",
    "    dict_scores[\"fit_time\"] = []\n",
    "    \n",
    "    set_size = int( (1.0/K) * X_dataset.shape[0])\n",
    "    \n",
    "    for i in range(K):\n",
    "        l_bound = set_size * i\n",
    "        r_bound = set_size * (i+1)\n",
    "        \n",
    "        start_time = time.time()\n",
    "        X_train = np.block([[X_dataset[:l_bound]],[X_dataset[r_bound:]]])\n",
    "        y_train = np.block([[y_dataset[:l_bound]],[y_dataset[r_bound:]]])\n",
    "        X_val = X_dataset[l_bound:r_bound]\n",
    "        y_val = y_dataset[l_bound:r_bound]\n",
    "        \n",
    "        estimator.fit(X_train, y_train.ravel())\n",
    "        end_time = time.time()\n",
    "        fit_time_elapsed = end_time - start_time\n",
    "          \n",
    "        start_time = time.time()\n",
    "        score = scoring(estimator, X_val, y_val)\n",
    "        end_time = time.time()\n",
    "        \n",
    "        score_time_elapsed = end_time - start_time\n",
    "\n",
    "        dict_scores[\"score\"].append(score)\n",
    "        dict_scores[\"score_time\"].append(score_time_elapsed)\n",
    "        dict_scores[\"fit_time\"].append(fit_time_elapsed)\n",
    "    \n",
    "    print(dict_scores)\n",
    "    \n",
    "    mean_score = statistics.mean(dict_scores[\"score\"])\n",
    "    \n",
    "    return mean_score\n"
   ]
  },
  {
   "cell_type": "markdown",
   "metadata": {},
   "source": [
    "## Optimization algorithms"
   ]
  },
  {
   "cell_type": "markdown",
   "metadata": {},
   "source": [
    "### Random search with parameter in range [1,k_max]"
   ]
  },
  {
   "cell_type": "markdown",
   "metadata": {},
   "source": [
    " Busco un k al azar en el rango dado\n"
   ]
  },
  {
   "cell_type": "code",
   "execution_count": 167,
   "metadata": {},
   "outputs": [],
   "source": [
    "import time\n",
    "import random\n",
    "\n",
    "def get_random_k(max_k):\n",
    "    \n",
    "    next_k = random.randint(1,max_k)\n",
    "    \n",
    "    return next_k"
   ]
  },
  {
   "cell_type": "markdown",
   "metadata": {},
   "source": [
    "Pruebo al azar distintos k con el objetivo de conseguir algo cercano al k optimo"
   ]
  },
  {
   "cell_type": "code",
   "execution_count": null,
   "metadata": {},
   "outputs": [],
   "source": [
    "def random_search(Classifier, X, y, scoring, k_fold, max_k, max_iterations, time_limit_s):\n",
    "    \n",
    "    print(\"Initiating...\")\n",
    "    \n",
    "    best_k = 1\n",
    "    best_score = 0.0\n",
    "    \n",
    "    initial_time = time.time()\n",
    "    \n",
    "    iterations = 0\n",
    "    \n",
    "    print(\"Starting search...\")\n",
    "    \n",
    "    while max_iterations > iterations and (time.time() - initial_time) < time_limit_s:\n",
    "        \n",
    "        iterations += 1\n",
    "        \n",
    "        next_k = get_random_k(max_k)\n",
    "        \n",
    "        next_clf = Classifier(next_k)\n",
    "        \n",
    "        score = cross_validate(next_clf, X, y, scoring, k_fold) # get initial score\n",
    "        \n",
    "        if score > best_score:\n",
    "            best_k = next_k\n",
    "            best_score = score  \n",
    "            \n",
    "            print(f\"{iterations}: Found better solution [k = {best_k}, score: {best_score}]\")\n",
    "        \n",
    "        if iterations % 1 == 0:\n",
    "            print(\"Processing...\")\n",
    "    \n",
    "    return best_k"
   ]
  },
  {
   "cell_type": "markdown",
   "metadata": {},
   "source": [
    "### Hill search with parameter in range [1,k_max]"
   ]
  },
  {
   "cell_type": "markdown",
   "metadata": {},
   "source": [
    "Busco un k \"vecino\" al mejor k hasta ahora en el rango dado"
   ]
  },
  {
   "cell_type": "code",
   "execution_count": 165,
   "metadata": {},
   "outputs": [],
   "source": [
    "import time\n",
    "import random\n",
    "\n",
    "def get_next_k(actual_k, max_k, change_ratio):\n",
    "    change_rate = abs(change_ratio) # change_rate should be always possible\n",
    "    \n",
    "    min_bound = max(0,actual_k-change_ratio)\n",
    "    max_bound = min(max_k,actual_k+change_ratio)\n",
    "    \n",
    "    next_k = random.randint(min_bound,max_bound)\n",
    "    \n",
    "    return next_k"
   ]
  },
  {
   "cell_type": "markdown",
   "metadata": {},
   "source": [
    "Me muevo por los k cercanos al actual que mejoren el scoring, con la esperanza de encontrar el maximo global o al menos local."
   ]
  },
  {
   "cell_type": "code",
   "execution_count": 165,
   "metadata": {},
   "outputs": [],
   "source": [
    "def hill_search(Classifier, X, y, scoring, k_fold, max_k, change_ratio, max_iterations, time_limit_s):\n",
    "    \n",
    "    print(\"Initiating...\")\n",
    "    \n",
    "    best_k = int((max_k+1)/2)\n",
    "    best_score = 0 # cross_validate(Classifier(best_k), X, y, scoring, k_fold) # get initial score\n",
    "    \n",
    "    initial_time = time.time()\n",
    "    \n",
    "    iterations = 0\n",
    "    \n",
    "    print(\"Starting search...\")\n",
    "    \n",
    "    while max_iterations > iterations and (time.time() - initial_time) < time_limit_s:\n",
    "        \n",
    "        iterations += 1\n",
    "        \n",
    "        next_k = get_next_k(best_k, max_k, change_ratio)\n",
    "        \n",
    "        next_clf = Classifier(next_k)\n",
    "        \n",
    "        score = cross_validate(next_clf, X, y, scoring, k_fold) # get initial score\n",
    "        \n",
    "        if score > best_score:\n",
    "            best_k = next_k\n",
    "            best_score = score  \n",
    "            \n",
    "            print(f\"{iterations}: Found better solution [k = {best_k}, score: {best_score}]\")\n",
    "        \n",
    "        if iterations % 1 == 0:\n",
    "            print(\"Processing...\")\n",
    "    \n",
    "    return best_k"
   ]
  },
  {
   "cell_type": "markdown",
   "metadata": {},
   "source": [
    "### Simulated annealing with parameter in range [1, k_max]"
   ]
  },
  {
   "cell_type": "code",
   "execution_count": null,
   "metadata": {},
   "outputs": [],
   "source": []
  },
  {
   "cell_type": "markdown",
   "metadata": {},
   "source": [
    "### Conjunto de development"
   ]
  },
  {
   "cell_type": "code",
   "execution_count": 150,
   "metadata": {},
   "outputs": [
    {
     "name": "stdout",
     "output_type": "stream",
     "text": [
      "Ahora tengo 4000 instancias de entrenamiento y 1000 de validación\n"
     ]
    }
   ],
   "source": [
    "limit = int(0.8 * X.shape[0]) \n",
    "\n",
    "X_train, y_train = X[:limit], y[:limit]\n",
    "X_val, y_val = X[limit:], y[limit:]\n",
    "\n",
    "assert len(X_train) == len(y_train)\n",
    "assert len(X_val) == len(y_val)\n",
    "\n",
    "print(f\"Ahora tengo {len(X_train)} instancias de entrenamiento y {len(X_val)} de validación\")\n"
   ]
  },
  {
   "cell_type": "code",
   "execution_count": 176,
   "metadata": {},
   "outputs": [
    {
     "data": {
      "text/plain": [
       "KNeighborsClassifier(algorithm='auto', leaf_size=30, metric='minkowski',\n",
       "           metric_params=None, n_jobs=None, n_neighbors=3, p=2,\n",
       "           weights='uniform')"
      ]
     },
     "execution_count": 176,
     "metadata": {},
     "output_type": "execute_result"
    }
   ],
   "source": [
    "from sklearn.neighbors import KNeighborsClassifier\n",
    "\n",
    "# Acá pueden cambiar el clasificador nuestro por el de sklearn!\n",
    "\n",
    "#clf = metnum.KNNClassifier(100)\n",
    "clf = KNeighborsClassifier(3)\n",
    "\n",
    "clf.fit(X_train, y_train.ravel())\n"
   ]
  },
  {
   "cell_type": "code",
   "execution_count": 177,
   "metadata": {},
   "outputs": [
    {
     "name": "stdout",
     "output_type": "stream",
     "text": [
      "Accuracy: 0.926\n",
      "CPU times: user 6.21 s, sys: 16.4 ms, total: 6.22 s\n",
      "Wall time: 6.33 s\n"
     ]
    }
   ],
   "source": [
    "%%time\n",
    "acc = calculate_accuracy(clf, X_val, y_val)\n",
    "print(\"Accuracy: {}\".format(acc))\n"
   ]
  },
  {
   "cell_type": "code",
   "execution_count": 170,
   "metadata": {},
   "outputs": [
    {
     "ename": "TypeError",
     "evalue": "random_search() takes 8 positional arguments but 9 were given",
     "output_type": "error",
     "traceback": [
      "\u001b[0;31m---------------------------------------------------------------------------\u001b[0m",
      "\u001b[0;31mTypeError\u001b[0m                                 Traceback (most recent call last)",
      "\u001b[0;32m<ipython-input-170-5e35986022f8>\u001b[0m in \u001b[0;36m<module>\u001b[0;34m\u001b[0m\n\u001b[0;32m----> 1\u001b[0;31m \u001b[0mrandom_search\u001b[0m\u001b[0;34m(\u001b[0m\u001b[0mKNeighborsClassifier\u001b[0m\u001b[0;34m,\u001b[0m \u001b[0mX\u001b[0m\u001b[0;34m,\u001b[0m \u001b[0my\u001b[0m\u001b[0;34m,\u001b[0m \u001b[0mcalculate_accuracy\u001b[0m\u001b[0;34m,\u001b[0m \u001b[0;36m5\u001b[0m\u001b[0;34m,\u001b[0m \u001b[0;36m1000\u001b[0m\u001b[0;34m,\u001b[0m \u001b[0;36m50\u001b[0m\u001b[0;34m,\u001b[0m \u001b[0;36m100\u001b[0m\u001b[0;34m,\u001b[0m \u001b[0;36m600\u001b[0m\u001b[0;34m)\u001b[0m\u001b[0;34m\u001b[0m\u001b[0;34m\u001b[0m\u001b[0m\n\u001b[0m",
      "\u001b[0;31mTypeError\u001b[0m: random_search() takes 8 positional arguments but 9 were given"
     ]
    }
   ],
   "source": [
    "random_search(KNeighborsClassifier, X, y, calculate_accuracy, 5, 1000, 100, 600)"
   ]
  },
  {
   "cell_type": "code",
   "execution_count": 171,
   "metadata": {},
   "outputs": [
    {
     "name": "stdout",
     "output_type": "stream",
     "text": [
      "Initiating...\n",
      "Starting search...\n",
      "1: Found better solution [k = 470, score: 0.68775]\n",
      "Processing...\n",
      "2: Found better solution [k = 466, score: 0.6895]\n",
      "Processing...\n",
      "3: Found better solution [k = 428, score: 0.701]\n",
      "Processing...\n",
      "4: Found better solution [k = 413, score: 0.7075]\n",
      "Processing...\n",
      "Processing...\n",
      "6: Found better solution [k = 405, score: 0.7104999999999999]\n",
      "Processing...\n",
      "7: Found better solution [k = 367, score: 0.71975]\n",
      "Processing...\n",
      "Processing...\n",
      "9: Found better solution [k = 359, score: 0.72325]\n",
      "Processing...\n",
      "10: Found better solution [k = 323, score: 0.73475]\n",
      "Processing...\n",
      "Processing...\n",
      "12: Found better solution [k = 295, score: 0.742]\n",
      "Processing...\n",
      "13: Found better solution [k = 254, score: 0.75525]\n",
      "Processing...\n",
      "14: Found better solution [k = 211, score: 0.77025]\n",
      "Processing...\n",
      "15: Found better solution [k = 193, score: 0.78125]\n",
      "Processing...\n",
      "Processing...\n",
      "Processing...\n",
      "18: Found better solution [k = 156, score: 0.7977500000000001]\n",
      "Processing...\n",
      "19: Found better solution [k = 146, score: 0.80225]\n",
      "Processing...\n",
      "20: Found better solution [k = 113, score: 0.823]\n",
      "Processing...\n",
      "21: Found better solution [k = 75, score: 0.85075]\n",
      "Processing...\n",
      "22: Found better solution [k = 30, score: 0.89375]\n",
      "Processing...\n",
      "Processing...\n",
      "Processing...\n",
      "Processing...\n",
      "26: Found better solution [k = 25, score: 0.898]\n",
      "Processing...\n",
      "Processing...\n",
      "Processing...\n",
      "29: Found better solution [k = 19, score: 0.902]\n",
      "Processing...\n",
      "Processing...\n",
      "Processing...\n",
      "Processing...\n",
      "Processing...\n",
      "34: Found better solution [k = 15, score: 0.91025]\n",
      "Processing...\n",
      "Processing...\n",
      "36: Found better solution [k = 3, score: 0.9265000000000001]\n",
      "Processing...\n",
      "Processing...\n",
      "Processing...\n",
      "Processing...\n",
      "Processing...\n",
      "Processing...\n",
      "Processing...\n",
      "Processing...\n",
      "Processing...\n",
      "Processing...\n"
     ]
    },
    {
     "data": {
      "text/plain": [
       "3"
      ]
     },
     "execution_count": 171,
     "metadata": {},
     "output_type": "execute_result"
    }
   ],
   "source": [
    "hill_search(KNeighborsClassifier, X, y, calculate_accuracy, 5, 1000, 50, 100, 1200)"
   ]
  },
  {
   "cell_type": "code",
   "execution_count": 190,
   "metadata": {},
   "outputs": [
    {
     "name": "stdout",
     "output_type": "stream",
     "text": [
      "{'score': [0.934, 0.92, 0.925, 0.934, 0.93], 'score_time': [6.365467071533203, 6.3872740268707275, 6.4288551807403564, 6.647608757019043, 6.593833923339844], 'fit_time': [0.28504323959350586, 0.27957844734191895, 0.2880568504333496, 0.2830166816711426, 0.28882551193237305]}\n",
      "0.9286000000000001\n"
     ]
    }
   ],
   "source": [
    "clf2 = KNeighborsClassifier(1)\n",
    "print(cross_validate(clf2,X,y,calculate_accuracy,5))"
   ]
  },
  {
   "cell_type": "code",
   "execution_count": null,
   "metadata": {},
   "outputs": [],
   "source": []
  }
 ],
 "metadata": {
  "kernelspec": {
   "display_name": "Python 3",
   "language": "python",
   "name": "python3"
  },
  "language_info": {
   "codemirror_mode": {
    "name": "ipython",
    "version": 3
   },
   "file_extension": ".py",
   "mimetype": "text/x-python",
   "name": "python",
   "nbconvert_exporter": "python",
   "pygments_lexer": "ipython3",
   "version": "3.6.9"
  }
 },
 "nbformat": 4,
 "nbformat_minor": 2
}
