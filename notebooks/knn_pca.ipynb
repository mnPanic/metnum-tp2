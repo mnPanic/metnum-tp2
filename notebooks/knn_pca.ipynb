{
 "cells": [
  {
   "cell_type": "code",
   "execution_count": 4,
   "metadata": {},
   "outputs": [],
   "source": [
    "import numpy as np\n",
    "import metnum\n",
    "from scoring import cross_validation as cv\n",
    "from scoring import metrics"
   ]
  },
  {
   "cell_type": "code",
   "execution_count": 5,
   "metadata": {},
   "outputs": [],
   "source": [
    "import pandas as pd\n",
    "\n",
    "df_train = pd.read_csv(\"../data/train.csv\")\n",
    "df_train.sample(frac=1)\n",
    "df_train = df_train[:42000]"
   ]
  },
  {
   "cell_type": "code",
   "execution_count": 6,
   "metadata": {},
   "outputs": [],
   "source": [
    "X = df_train[df_train.columns[1:]].values\n",
    "y = df_train[\"label\"].values.reshape(-1, 1)"
   ]
  },
  {
   "cell_type": "code",
   "execution_count": 7,
   "metadata": {},
   "outputs": [
    {
     "name": "stdout",
     "output_type": "stream",
     "text": [
      "CPU times: user 3 µs, sys: 0 ns, total: 3 µs\n",
      "Wall time: 6.91 µs\n"
     ]
    }
   ],
   "source": [
    "%%time\n",
    "alpha = 20\n",
    "n_iter = 5000\n",
    "eps = 1e-2\n",
    "\n",
    "#pca = metnum.PCA(alpha)\n",
    "#X = pca.transform(X, n_iter, eps)"
   ]
  },
  {
   "cell_type": "code",
   "execution_count": 8,
   "metadata": {},
   "outputs": [],
   "source": [
    "limit = int(0.8 * X.shape[0])\n",
    "\n",
    "X_train, y_train = X[:limit], y[:limit]\n",
    "X_val, y_val = X[limit:], y[limit:]"
   ]
  },
  {
   "cell_type": "code",
   "execution_count": 9,
   "metadata": {},
   "outputs": [],
   "source": [
    "clf = metnum.KNNClassifier(10)\n",
    "clf.fit(X_train, y_train)"
   ]
  },
  {
   "cell_type": "code",
   "execution_count": null,
   "metadata": {
    "scrolled": true
   },
   "outputs": [],
   "source": [
    "%%time\n",
    "from sklearn.metrics import accuracy_score\n",
    "y_pred = clf.predict(X_val)\n",
    "\n",
    "acc = accuracy_score(y_val, y_pred)\n",
    "print(\"Accuracy: {}\".format(acc))"
   ]
  },
  {
   "cell_type": "markdown",
   "metadata": {},
   "source": [
    "## Cross validation ##"
   ]
  },
  {
   "cell_type": "code",
   "execution_count": 10,
   "metadata": {},
   "outputs": [
    {
     "name": "stdout",
     "output_type": "stream",
     "text": [
      "CPU times: user 42 µs, sys: 0 ns, total: 42 µs\n",
      "Wall time: 45.3 µs\n"
     ]
    }
   ],
   "source": [
    "%%time\n",
    "import os\n",
    "import numpy as np\n",
    "\n",
    "class MatrixFSDict:\n",
    "    \"\"\"Mantiene un FS dict de matrices de numpy\"\"\"\n",
    "\n",
    "    def __init__(self, d):\n",
    "        self.dir = d\n",
    "\n",
    "    def load(self, name: str) -> np.ndarray:\n",
    "        path = os.path.join(self.dir, name)\n",
    "        print(\"loading:\", path)\n",
    "        return np.loadtxt(path, delimiter=',')\n",
    "    \n",
    "    def save(self, name: str, X: np.ndarray):\n",
    "        path = os.path.join(self.dir, name)\n",
    "        print(\"storing:\", path)\n",
    "        return np.savetxt(path, X, delimiter=\",\")\n",
    "    \n",
    "    def contains(self, name: str):\n",
    "        return os.path.exists(os.path.join(self.dir, name))\n"
   ]
  },
  {
   "cell_type": "code",
   "execution_count": 11,
   "metadata": {},
   "outputs": [],
   "source": [
    "DIR = \"pca-cache\"\n",
    "MAX_ALPHA = 100\n",
    "\n",
    "class CachedPCA:\n",
    "    def __init__(self, alpha: int):\n",
    "        assert(alpha < MAX_ALPHA)\n",
    "        self.pca = metnum.PCA(alpha)\n",
    "        self.cache = MatrixFSDict(DIR)\n",
    "        self.alpha = alpha\n",
    "        \n",
    "    def fit(self, X, fold: int):\n",
    "        name = \"fold_{}\".format(fold)\n",
    "        if self.cache.contains(name):\n",
    "            # HIT!\n",
    "            print(f\"Hit {fold}\")\n",
    "            tc = self.cache.load(name)\n",
    "            # verificar!!!!!!!!!!!\n",
    "            print(tc[:self.alpha+1].shape)\n",
    "            self.pca.set_tc(tc[:self.alpha])\n",
    "            return\n",
    "        \n",
    "        # MISS :(\n",
    "        print(f\"Miss {fold}\")\n",
    "        max_pca = metnum.PCA(MAX_ALPHA)\n",
    "        max_pca.fit(X)\n",
    "        tc = max_pca.get_tc()\n",
    "        self.cache.save(name, tc)\n",
    "    \n",
    "        self.pca.set_tc(tc[:self.alpha+1])\n",
    "        \n",
    "    def transform(self, X):\n",
    "        return self.pca.transform(X)\n",
    "\n",
    "class KNNnPCAClassifier:\n",
    "    def __init__(self, k, alpha):\n",
    "        self.knn_classifier = metnum.KNNClassifier(k)\n",
    "        self.pca = CachedPCA(alpha)\n",
    "\n",
    "    def fit(self, X_train, y_train, fold=None):\n",
    "        assert(fold != None)\n",
    "        self.pca.fit(X_train, fold)\n",
    "        self.knn_classifier.fit(self.pca.transform(X_train), y_train)\n",
    "    \n",
    "    def predict(self, X):\n",
    "        return self.knn_classifier.predict(self.pca.transform(X))"
   ]
  },
  {
   "cell_type": "code",
   "execution_count": null,
   "metadata": {},
   "outputs": [
    {
     "name": "stdout",
     "output_type": "stream",
     "text": [
      "Miss 0\n",
      "storing: pca-cache/fold_0\n"
     ]
    }
   ],
   "source": [
    "%%time\n",
    "clf = KNNnPCAClassifier(10,20)\n",
    "mean = cv.cross_validate_pca(clf, X, y, metrics.accuracy_score, 4, True)"
   ]
  },
  {
   "cell_type": "code",
   "execution_count": 32,
   "metadata": {},
   "outputs": [
    {
     "ename": "TypeError",
     "evalue": "predict() got an unexpected keyword argument 'l_bound'",
     "output_type": "error",
     "traceback": [
      "\u001b[0;31m---------------------------------------------------------------------------\u001b[0m",
      "\u001b[0;31mTypeError\u001b[0m                                 Traceback (most recent call last)",
      "\u001b[0;32m<ipython-input-32-959521ad998e>\u001b[0m in \u001b[0;36m<module>\u001b[0;34m\u001b[0m\n\u001b[1;32m      1\u001b[0m \u001b[0mclf\u001b[0m \u001b[0;34m=\u001b[0m \u001b[0mKNNnPCAClassifier\u001b[0m\u001b[0;34m(\u001b[0m\u001b[0;36m10\u001b[0m\u001b[0;34m,\u001b[0m\u001b[0;36m20\u001b[0m\u001b[0;34m)\u001b[0m\u001b[0;34m\u001b[0m\u001b[0;34m\u001b[0m\u001b[0m\n\u001b[0;32m----> 2\u001b[0;31m \u001b[0mclf\u001b[0m\u001b[0;34m.\u001b[0m\u001b[0mpredict\u001b[0m\u001b[0;34m(\u001b[0m\u001b[0mX\u001b[0m\u001b[0;34m,\u001b[0m \u001b[0;34m**\u001b[0m\u001b[0;34m{\u001b[0m\u001b[0;34m\"l_bound\"\u001b[0m\u001b[0;34m:\u001b[0m \u001b[0;36m2\u001b[0m\u001b[0;34m,\u001b[0m \u001b[0;34m\"r_bound\"\u001b[0m\u001b[0;34m:\u001b[0m \u001b[0;36m1\u001b[0m\u001b[0;34m}\u001b[0m\u001b[0;34m)\u001b[0m\u001b[0;34m\u001b[0m\u001b[0;34m\u001b[0m\u001b[0m\n\u001b[0m",
      "\u001b[0;31mTypeError\u001b[0m: predict() got an unexpected keyword argument 'l_bound'"
     ]
    }
   ],
   "source": [
    "clf = KNNnPCAClassifier(10,20)\n",
    "clf.predict(X, **{\"l_bound\": 2, \"r_bound\": 1})"
   ]
  },
  {
   "cell_type": "code",
   "execution_count": 10,
   "metadata": {},
   "outputs": [
    {
     "ename": "NameError",
     "evalue": "name 'mean' is not defined",
     "output_type": "error",
     "traceback": [
      "\u001b[0;31m---------------------------------------------------------------------------\u001b[0m",
      "\u001b[0;31mNameError\u001b[0m                                 Traceback (most recent call last)",
      "\u001b[0;32m<ipython-input-10-18a976ba6deb>\u001b[0m in \u001b[0;36m<module>\u001b[0;34m\u001b[0m\n\u001b[0;32m----> 1\u001b[0;31m \u001b[0mmean\u001b[0m\u001b[0;34m\u001b[0m\u001b[0;34m\u001b[0m\u001b[0m\n\u001b[0m",
      "\u001b[0;31mNameError\u001b[0m: name 'mean' is not defined"
     ]
    }
   ],
   "source": [
    "mean"
   ]
  },
  {
   "cell_type": "code",
   "execution_count": null,
   "metadata": {},
   "outputs": [],
   "source": []
  }
 ],
 "metadata": {
  "kernelspec": {
   "display_name": "metodos",
   "language": "python",
   "name": "metodos"
  },
  "language_info": {
   "codemirror_mode": {
    "name": "ipython",
    "version": 3
   },
   "file_extension": ".py",
   "mimetype": "text/x-python",
   "name": "python",
   "nbconvert_exporter": "python",
   "pygments_lexer": "ipython3",
   "version": "3.6.9"
  }
 },
 "nbformat": 4,
 "nbformat_minor": 4
}
