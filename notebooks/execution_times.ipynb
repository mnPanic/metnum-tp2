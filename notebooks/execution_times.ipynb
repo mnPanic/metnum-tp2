{
 "cells": [
  {
   "cell_type": "markdown",
   "metadata": {},
   "source": [
    "# Medición de tiempos de ejecución\n"
   ]
  },
  {
   "cell_type": "markdown",
   "metadata": {},
   "source": [
    "## Explorando los datos"
   ]
  },
  {
   "cell_type": "code",
   "execution_count": 1,
   "metadata": {},
   "outputs": [
    {
     "name": "stdout",
     "output_type": "stream",
     "text": [
      "<class 'pandas.core.frame.DataFrame'>\n",
      "RangeIndex: 42000 entries, 0 to 41999\n",
      "Columns: 785 entries, label to pixel783\n",
      "dtypes: int64(785)\n",
      "memory usage: 251.5 MB\n"
     ]
    }
   ],
   "source": [
    "%load_ext autoreload\n",
    "%autoreload 2\n",
    "import pandas as pd\n",
    "\n",
    "df_train = pd.read_csv(\"../data/train.csv\")\n",
    "df_train.info()"
   ]
  },
  {
   "cell_type": "code",
   "execution_count": 2,
   "metadata": {},
   "outputs": [
    {
     "data": {
      "text/plain": [
       "((42000, 784), (42000, 1))"
      ]
     },
     "execution_count": 2,
     "metadata": {},
     "output_type": "execute_result"
    }
   ],
   "source": [
    "X = df_train[df_train.columns[1:]].values\n",
    "y = df_train[\"label\"].values.reshape(-1, 1)\n",
    "\n",
    "X.shape, y.shape"
   ]
  },
  {
   "cell_type": "code",
   "execution_count": 3,
   "metadata": {},
   "outputs": [],
   "source": [
    "class KNNnPCAClassifier:\n",
    "    def __init__(self, k, alpha):\n",
    "        self.knn_classifier = metnum.KNNClassifier(k, \"uniform\")\n",
    "        self.pca = metnum.PCA(alpha)\n",
    "\n",
    "    def fit(self, X_train, y_train):\n",
    "        self.pca.fit(X_train)\n",
    "        self.knn_classifier.fit(self.pca.transform(X_train), y_train)\n",
    "    \n",
    "    def predict(self, X):\n",
    "        return self.knn_classifier.predict(self.pca.transform(X))"
   ]
  },
  {
   "cell_type": "markdown",
   "metadata": {},
   "source": [
    "### Comparativa de tiempo de ejecucion de nuestros mejores classifiers para diferentes particiones"
   ]
  },
  {
   "cell_type": "code",
   "execution_count": 4,
   "metadata": {},
   "outputs": [
    {
     "name": "stderr",
     "output_type": "stream",
     "text": [
      "iter:   0%|          | 0/9 [00:00<?, ?it/s]\n",
      "clf:   0%|          | 0/2 [00:00<?, ?it/s]\u001b[A\n",
      "\n",
      "split:   0%|          | 0/3 [00:00<?, ?it/s]\u001b[A\u001b[A\n",
      "\n",
      "split:  33%|███▎      | 1/3 [03:21<06:42, 201.28s/it]\u001b[A\u001b[A\n",
      "\n",
      "split:  67%|██████▋   | 2/3 [08:34<03:54, 234.81s/it]\u001b[A\u001b[A\n",
      "\n",
      "split: 100%|██████████| 3/3 [11:54<00:00, 238.18s/it]\n",
      "\n",
      "clf:  50%|█████     | 1/2 [11:54<11:54, 714.54s/it]\u001b[A\n",
      "\n",
      "split:   0%|          | 0/3 [00:00<?, ?it/s]\u001b[A\u001b[A\n",
      "\n",
      "split:  33%|███▎      | 1/3 [00:11<00:23, 11.79s/it]\u001b[A\u001b[A\n",
      "\n",
      "split:  67%|██████▋   | 2/3 [00:32<00:14, 14.42s/it]\u001b[A\u001b[A\n",
      "\n",
      "split: 100%|██████████| 3/3 [00:47<00:00, 15.85s/it]\n",
      "\n",
      "clf: 100%|██████████| 2/2 [12:42<00:00, 381.05s/it]\n",
      "iter:  11%|█         | 1/9 [12:42<1:41:36, 762.10s/it]\n",
      "clf:   0%|          | 0/2 [00:00<?, ?it/s]\u001b[A\n",
      "\n",
      "split:   0%|          | 0/3 [00:00<?, ?it/s]\u001b[A\u001b[A\n",
      "\n",
      "split:  33%|███▎      | 1/3 [03:20<06:41, 200.74s/it]\u001b[A\u001b[A\n",
      "\n",
      "split:  67%|██████▋   | 2/3 [08:35<03:54, 234.94s/it]\u001b[A\u001b[A\n",
      "\n",
      "split: 100%|██████████| 3/3 [11:56<00:00, 238.94s/it]\n",
      "\n",
      "clf:  50%|█████     | 1/2 [11:56<11:56, 716.83s/it]\u001b[A\n",
      "\n",
      "split:   0%|          | 0/3 [00:00<?, ?it/s]\u001b[A\u001b[A\n",
      "\n",
      "split:  33%|███▎      | 1/3 [00:12<00:24, 12.44s/it]\u001b[A\u001b[A\n",
      "\n",
      "split:  67%|██████▋   | 2/3 [00:31<00:14, 14.52s/it]\u001b[A\u001b[A\n",
      "\n",
      "split: 100%|██████████| 3/3 [00:47<00:00, 15.92s/it]\n",
      "\n",
      "clf: 100%|██████████| 2/2 [12:44<00:00, 382.30s/it]\n",
      "iter:  22%|██▏       | 2/9 [25:26<1:28:59, 762.85s/it]\n",
      "clf:   0%|          | 0/2 [00:00<?, ?it/s]\u001b[A\n",
      "\n",
      "split:   0%|          | 0/3 [00:00<?, ?it/s]\u001b[A\u001b[A\n",
      "\n",
      "split:  33%|███▎      | 1/3 [03:20<06:41, 200.77s/it]\u001b[A\u001b[A\n",
      "\n",
      "split:  67%|██████▋   | 2/3 [08:35<03:54, 234.88s/it]\u001b[A\u001b[A\n",
      "\n",
      "split: 100%|██████████| 3/3 [11:56<00:00, 238.81s/it]\n",
      "\n",
      "clf:  50%|█████     | 1/2 [11:56<11:56, 716.43s/it]\u001b[A\n",
      "\n",
      "split:   0%|          | 0/3 [00:00<?, ?it/s]\u001b[A\u001b[A\n",
      "\n",
      "split:  33%|███▎      | 1/3 [00:11<00:23, 11.85s/it]\u001b[A\u001b[A\n",
      "\n",
      "split:  67%|██████▋   | 2/3 [00:31<00:14, 14.34s/it]\u001b[A\u001b[A\n",
      "\n",
      "split: 100%|██████████| 3/3 [00:47<00:00, 15.73s/it]\n",
      "\n",
      "clf: 100%|██████████| 2/2 [12:43<00:00, 381.82s/it]\n",
      "iter:  33%|███▎      | 3/9 [38:10<1:16:18, 763.09s/it]\n",
      "clf:   0%|          | 0/2 [00:00<?, ?it/s]\u001b[A\n",
      "\n",
      "split:   0%|          | 0/3 [00:00<?, ?it/s]\u001b[A\u001b[A\n",
      "\n",
      "split:  33%|███▎      | 1/3 [03:20<06:40, 200.50s/it]\u001b[A\u001b[A\n",
      "\n",
      "split:  67%|██████▋   | 2/3 [08:32<03:54, 234.04s/it]\u001b[A\u001b[A\n",
      "\n",
      "split: 100%|██████████| 3/3 [11:52<00:00, 237.57s/it]\n",
      "\n",
      "clf:  50%|█████     | 1/2 [11:52<11:52, 712.72s/it]\u001b[A\n",
      "\n",
      "split:   0%|          | 0/3 [00:00<?, ?it/s]\u001b[A\u001b[A\n",
      "\n",
      "split:  33%|███▎      | 1/3 [00:12<00:24, 12.44s/it]\u001b[A\u001b[A\n",
      "\n",
      "split:  67%|██████▋   | 2/3 [00:31<00:14, 14.56s/it]\u001b[A\u001b[A\n",
      "\n",
      "split: 100%|██████████| 3/3 [00:47<00:00, 15.96s/it]\n",
      "\n",
      "clf: 100%|██████████| 2/2 [12:40<00:00, 380.30s/it]\n",
      "iter:  44%|████▍     | 4/9 [50:50<1:03:31, 762.34s/it]\n",
      "clf:   0%|          | 0/2 [00:00<?, ?it/s]\u001b[A\n",
      "\n",
      "split:   0%|          | 0/3 [00:00<?, ?it/s]\u001b[A\u001b[A\n",
      "\n",
      "split:  33%|███▎      | 1/3 [03:19<06:38, 199.08s/it]\u001b[A\u001b[A\n",
      "\n",
      "split:  67%|██████▋   | 2/3 [08:32<03:53, 233.28s/it]\u001b[A\u001b[A\n",
      "\n",
      "split: 100%|██████████| 3/3 [11:52<00:00, 237.50s/it]\n",
      "\n",
      "clf:  50%|█████     | 1/2 [11:52<11:52, 712.49s/it]\u001b[A\n",
      "\n",
      "split:   0%|          | 0/3 [00:00<?, ?it/s]\u001b[A\u001b[A\n",
      "\n",
      "split:  33%|███▎      | 1/3 [00:11<00:23, 11.86s/it]\u001b[A\u001b[A\n",
      "\n",
      "split:  67%|██████▋   | 2/3 [00:32<00:14, 14.37s/it]\u001b[A\u001b[A\n",
      "\n",
      "split: 100%|██████████| 3/3 [00:47<00:00, 15.78s/it]\n",
      "\n",
      "clf: 100%|██████████| 2/2 [12:39<00:00, 379.91s/it]\n",
      "iter:  56%|█████▌    | 5/9 [1:03:30<50:46, 761.59s/it]\n",
      "clf:   0%|          | 0/2 [00:00<?, ?it/s]\u001b[A\n",
      "\n",
      "split:   0%|          | 0/3 [00:00<?, ?it/s]\u001b[A\u001b[A\n",
      "\n",
      "split:  33%|███▎      | 1/3 [03:20<06:40, 200.40s/it]\u001b[A\u001b[A\n",
      "\n",
      "split:  67%|██████▋   | 2/3 [08:33<03:54, 234.10s/it]\u001b[A\u001b[A\n",
      "\n",
      "split: 100%|██████████| 3/3 [11:53<00:00, 237.78s/it]\n",
      "\n",
      "clf:  50%|█████     | 1/2 [11:53<11:53, 713.34s/it]\u001b[A\n",
      "\n",
      "split:   0%|          | 0/3 [00:00<?, ?it/s]\u001b[A\u001b[A\n",
      "\n",
      "split:  33%|███▎      | 1/3 [00:12<00:24, 12.45s/it]\u001b[A\u001b[A\n",
      "\n",
      "split:  67%|██████▋   | 2/3 [00:31<00:14, 14.43s/it]\u001b[A\u001b[A\n",
      "\n",
      "split: 100%|██████████| 3/3 [00:47<00:00, 15.79s/it]\n",
      "\n",
      "clf: 100%|██████████| 2/2 [12:40<00:00, 380.36s/it]\n",
      "iter:  67%|██████▋   | 6/9 [1:16:11<38:03, 761.33s/it]\n",
      "clf:   0%|          | 0/2 [00:00<?, ?it/s]\u001b[A\n",
      "\n",
      "split:   0%|          | 0/3 [00:00<?, ?it/s]\u001b[A\u001b[A\n",
      "\n",
      "split:  33%|███▎      | 1/3 [03:21<06:42, 201.27s/it]\u001b[A\u001b[A\n",
      "\n",
      "split:  67%|██████▋   | 2/3 [08:34<03:54, 234.80s/it]\u001b[A\u001b[A\n",
      "\n",
      "split: 100%|██████████| 3/3 [11:55<00:00, 238.46s/it]\n",
      "\n",
      "clf:  50%|█████     | 1/2 [11:55<11:55, 715.38s/it]\u001b[A\n",
      "\n",
      "split:   0%|          | 0/3 [00:00<?, ?it/s]\u001b[A\u001b[A\n",
      "\n",
      "split:  33%|███▎      | 1/3 [00:11<00:23, 11.81s/it]\u001b[A\u001b[A\n",
      "\n",
      "split:  67%|██████▋   | 2/3 [00:32<00:14, 14.42s/it]\u001b[A\u001b[A\n",
      "\n",
      "split: 100%|██████████| 3/3 [00:47<00:00, 15.83s/it]\n",
      "\n",
      "clf: 100%|██████████| 2/2 [12:42<00:00, 381.44s/it]\n",
      "iter:  78%|███████▊  | 7/9 [1:28:54<25:23, 761.80s/it]\n",
      "clf:   0%|          | 0/2 [00:00<?, ?it/s]\u001b[A\n",
      "\n",
      "split:   0%|          | 0/3 [00:00<?, ?it/s]\u001b[A\u001b[A\n",
      "\n",
      "split:  33%|███▎      | 1/3 [03:20<06:40, 200.10s/it]\u001b[A\u001b[A\n",
      "\n",
      "split:  67%|██████▋   | 2/3 [08:33<03:54, 234.00s/it]\u001b[A\u001b[A\n",
      "\n",
      "split: 100%|██████████| 3/3 [11:53<00:00, 237.83s/it]\n",
      "\n",
      "clf:  50%|█████     | 1/2 [11:53<11:53, 713.48s/it]\u001b[A\n",
      "\n",
      "split:   0%|          | 0/3 [00:00<?, ?it/s]\u001b[A\u001b[A\n",
      "\n",
      "split:  33%|███▎      | 1/3 [00:12<00:24, 12.48s/it]\u001b[A\u001b[A\n",
      "\n",
      "split:  67%|██████▋   | 2/3 [00:31<00:14, 14.54s/it]\u001b[A\u001b[A\n",
      "\n",
      "split: 100%|██████████| 3/3 [00:47<00:00, 15.91s/it]\n",
      "\n",
      "clf: 100%|██████████| 2/2 [12:41<00:00, 380.61s/it]\n",
      "iter:  89%|████████▉ | 8/9 [1:41:35<12:41, 761.62s/it]\n",
      "clf:   0%|          | 0/2 [00:00<?, ?it/s]\u001b[A\n",
      "\n",
      "split:   0%|          | 0/3 [00:00<?, ?it/s]\u001b[A\u001b[A\n",
      "\n",
      "split:  33%|███▎      | 1/3 [03:19<06:39, 199.84s/it]\u001b[A\u001b[A\n",
      "\n",
      "split:  67%|██████▋   | 2/3 [08:31<03:53, 233.51s/it]\u001b[A\u001b[A\n",
      "\n",
      "split: 100%|██████████| 3/3 [11:52<00:00, 237.45s/it]\n",
      "\n",
      "clf:  50%|█████     | 1/2 [11:52<11:52, 712.35s/it]\u001b[A\n",
      "\n",
      "split:   0%|          | 0/3 [00:00<?, ?it/s]\u001b[A\u001b[A\n",
      "\n",
      "split:  33%|███▎      | 1/3 [00:11<00:23, 11.81s/it]\u001b[A\u001b[A\n",
      "\n",
      "split:  67%|██████▋   | 2/3 [00:31<00:14, 14.30s/it]\u001b[A\u001b[A\n",
      "\n",
      "split: 100%|██████████| 3/3 [00:47<00:00, 15.69s/it]\n",
      "\n",
      "clf: 100%|██████████| 2/2 [12:39<00:00, 379.71s/it]\n",
      "iter: 100%|██████████| 9/9 [1:54:15<00:00, 761.67s/it]"
     ]
    },
    {
     "name": "stdout",
     "output_type": "stream",
     "text": [
      "Creating DataFrame...\n",
      "Finished!\n",
      "CPU times: user 1h 54min 34s, sys: 37.1 s, total: 1h 55min 11s\n",
      "Wall time: 1h 54min 15s\n"
     ]
    },
    {
     "name": "stderr",
     "output_type": "stream",
     "text": [
      "\n"
     ]
    }
   ],
   "source": [
    "%%time\n",
    "import time\n",
    "import metnum\n",
    "import pandas as pd\n",
    "\n",
    "from scoring import metrics\n",
    "from scoring import cross_validation as cv\n",
    "from tqdm import tqdm\n",
    "\n",
    "scoring_fn = metrics.accuracy_score\n",
    "classifiers = {\n",
    "    \"knn\":     metnum.KNNClassifier(4, \"distance_pow\"),\n",
    "    \"knn+pca\": KNNnPCAClassifier(6, 34),\n",
    "}\n",
    "\n",
    "size =  X.shape[0]\n",
    "splits = {\n",
    "    \"20-80\": int(0.2 * size),\n",
    "    \"50-50\": int(0.5 * size),\n",
    "    \"80-20\": int(0.8 * size),\n",
    "}\n",
    "\n",
    "rows = []\n",
    "\n",
    "ITER = range(1, 10)\n",
    "\n",
    "for _ in tqdm(ITER, \"iter\"):\n",
    "    for clf_id, clf in tqdm(classifiers.items(), \"clf\"):\n",
    "        for split_id, split in tqdm(splits.items(), \"split\"):\n",
    "            X_train, y_train = X[:split], y[:split]\n",
    "            X_val, y_val = X[split:], y[split:]\n",
    "\n",
    "            # fit\n",
    "            start = time.time()\n",
    "            clf.fit(X_train, y_train.ravel())\n",
    "            fit_elapsed = time.time() - start\n",
    "\n",
    "            # predict\n",
    "            start = time.time()\n",
    "            clf.predict(X_val)\n",
    "            predict_elapsed = time.time() - start\n",
    "\n",
    "            # all\n",
    "            total_elapsed = fit_elapsed + predict_elapsed\n",
    "            rows.append({\n",
    "                \"split\": split_id,\n",
    "                \"sample_size\": size,\n",
    "                \"fit_elapsed\": fit_elapsed,\n",
    "                \"predict_elapsed\": predict_elapsed,\n",
    "                \"total_elapsed\": total_elapsed,\n",
    "                \"clf\": clf_id,\n",
    "            })\n",
    "\n",
    "print(\"Creating DataFrame...\")\n",
    "df = pd.DataFrame(rows)\n",
    "df.to_csv(\"data/time/exec_time.csv\", index=False)\n",
    "print(\"Finished!\")"
   ]
  },
  {
   "cell_type": "markdown",
   "metadata": {},
   "source": [
    "## Analisis de resultados"
   ]
  },
  {
   "cell_type": "code",
   "execution_count": 24,
   "metadata": {},
   "outputs": [],
   "source": [
    "import pandas as pd\n",
    "\n",
    "df = pd.read_csv(\"data/time/exec_time.csv\")"
   ]
  },
  {
   "cell_type": "code",
   "execution_count": 69,
   "metadata": {},
   "outputs": [
    {
     "data": {
      "text/plain": [
       "Text(0.5, 1.0, 'Tiempos de predict por classifier')"
      ]
     },
     "execution_count": 69,
     "metadata": {},
     "output_type": "execute_result"
    },
    {
     "data": {
      "image/png": "[encoded data removed]",
      "text/plain": [
       "<Figure size 1296x360 with 2 Axes>"
      ]
     },
     "metadata": {},
     "output_type": "display_data"
    }
   ],
   "source": [
    "import matplotlib.pyplot as plt\n",
    "import seaborn as sns\n",
    "\n",
    "fig, (ax1, ax2) = plt.subplots(1, 2, figsize=(18, 5))\n",
    "sns.set(style=\"whitegrid\")\n",
    "\n",
    "plot = sns.pointplot(data=df, x=\"clf\", y=\"fit_elapsed\", hue=\"split\", ax=ax1, join=False, dodge=True)\n",
    "plot.set(ylabel=\"fit elapsed (s)\")\n",
    "plot.set_title(\"Tiempos de fit por classifier\")\n",
    "\n",
    "plot = sns.pointplot(data=df, x=\"clf\", y=\"predict_elapsed\", hue=\"split\", ax=ax2, join=False, dodge=True)\n",
    "plot.set(ylabel=\"predict elapsed (s)\", xlabel=\"knn+pca\")\n",
    "plot.set_title(\"Tiempos de predict por classifier\")\n",
    "\n"
   ]
  },
  {
   "cell_type": "code",
   "execution_count": 67,
   "metadata": {},
   "outputs": [
    {
     "data": {
      "text/plain": [
       "Text(0.5, 1.0, 'Tiempos de predict para knn+pca')"
      ]
     },
     "execution_count": 67,
     "metadata": {},
     "output_type": "execute_result"
    },
    {
     "data": {
      "image/png": "[encoded data removed]",
      "text/plain": [
       "<Figure size 648x360 with 1 Axes>"
      ]
     },
     "metadata": {},
     "output_type": "display_data"
    }
   ],
   "source": [
    "import matplotlib.pyplot as plt\n",
    "import seaborn as sns\n",
    "\n",
    "fig= plt.figure(figsize=(9, 5))\n",
    "sns.set(style=\"whitegrid\")\n",
    "\n",
    "plot = sns.pointplot(data=df, x=\"clf\", y=\"total_elapsed\", hue=\"split\", join=False, dodge=True)\n",
    "plot.set(ylabel=\"total elapsed (s)\", xlabel=\"knn+pca\")\n",
    "plot.set_title(\"Tiempos totales por classifier\")\n",
    "\n"
   ]
  },
  {
   "cell_type": "code",
   "execution_count": 62,
   "metadata": {},
   "outputs": [
    {
     "ename": "KeyError",
     "evalue": "'K'",
     "output_type": "error",
     "traceback": [
      "\u001b[0;31m---------------------------------------------------------------------------\u001b[0m",
      "\u001b[0;31mKeyError\u001b[0m                                  Traceback (most recent call last)",
      "\u001b[0;32m~/.virtualenvs/metodos/lib/python3.6/site-packages/pandas/core/indexes/base.py\u001b[0m in \u001b[0;36mget_loc\u001b[0;34m(self, key, method, tolerance)\u001b[0m\n\u001b[1;32m   2656\u001b[0m             \u001b[0;32mtry\u001b[0m\u001b[0;34m:\u001b[0m\u001b[0;34m\u001b[0m\u001b[0;34m\u001b[0m\u001b[0m\n\u001b[0;32m-> 2657\u001b[0;31m                 \u001b[0;32mreturn\u001b[0m \u001b[0mself\u001b[0m\u001b[0;34m.\u001b[0m\u001b[0m_engine\u001b[0m\u001b[0;34m.\u001b[0m\u001b[0mget_loc\u001b[0m\u001b[0;34m(\u001b[0m\u001b[0mkey\u001b[0m\u001b[0;34m)\u001b[0m\u001b[0;34m\u001b[0m\u001b[0;34m\u001b[0m\u001b[0m\n\u001b[0m\u001b[1;32m   2658\u001b[0m             \u001b[0;32mexcept\u001b[0m \u001b[0mKeyError\u001b[0m\u001b[0;34m:\u001b[0m\u001b[0;34m\u001b[0m\u001b[0;34m\u001b[0m\u001b[0m\n",
      "\u001b[0;32mpandas/_libs/index.pyx\u001b[0m in \u001b[0;36mpandas._libs.index.IndexEngine.get_loc\u001b[0;34m()\u001b[0m\n",
      "\u001b[0;32mpandas/_libs/index.pyx\u001b[0m in \u001b[0;36mpandas._libs.index.IndexEngine.get_loc\u001b[0;34m()\u001b[0m\n",
      "\u001b[0;32mpandas/_libs/hashtable_class_helper.pxi\u001b[0m in \u001b[0;36mpandas._libs.hashtable.PyObjectHashTable.get_item\u001b[0;34m()\u001b[0m\n",
      "\u001b[0;32mpandas/_libs/hashtable_class_helper.pxi\u001b[0m in \u001b[0;36mpandas._libs.hashtable.PyObjectHashTable.get_item\u001b[0;34m()\u001b[0m\n",
      "\u001b[0;31mKeyError\u001b[0m: 'K'",
      "\nDuring handling of the above exception, another exception occurred:\n",
      "\u001b[0;31mKeyError\u001b[0m                                  Traceback (most recent call last)",
      "\u001b[0;32m<ipython-input-62-58322a1348c3>\u001b[0m in \u001b[0;36m<module>\u001b[0;34m\u001b[0m\n\u001b[1;32m      1\u001b[0m \u001b[0;32mimport\u001b[0m \u001b[0mseaborn\u001b[0m \u001b[0;32mas\u001b[0m \u001b[0msns\u001b[0m\u001b[0;34m\u001b[0m\u001b[0;34m\u001b[0m\u001b[0m\n\u001b[0;32m----> 2\u001b[0;31m \u001b[0mdf_pivot\u001b[0m \u001b[0;34m=\u001b[0m \u001b[0mdf\u001b[0m\u001b[0;34m.\u001b[0m\u001b[0mpivot\u001b[0m\u001b[0;34m(\u001b[0m\u001b[0;34m\"K\"\u001b[0m\u001b[0;34m,\u001b[0m \u001b[0;34m\"sample_size\"\u001b[0m\u001b[0;34m,\u001b[0m \u001b[0;34m\"accuracy\"\u001b[0m\u001b[0;34m)\u001b[0m\u001b[0;34m\u001b[0m\u001b[0;34m\u001b[0m\u001b[0m\n\u001b[0m\u001b[1;32m      3\u001b[0m \u001b[0max\u001b[0m \u001b[0;34m=\u001b[0m \u001b[0msns\u001b[0m\u001b[0;34m.\u001b[0m\u001b[0mheatmap\u001b[0m\u001b[0;34m(\u001b[0m\u001b[0mdata\u001b[0m\u001b[0;34m=\u001b[0m\u001b[0mdf_pivot\u001b[0m\u001b[0;34m,\u001b[0m \u001b[0mannot\u001b[0m\u001b[0;34m=\u001b[0m\u001b[0;32mTrue\u001b[0m\u001b[0;34m,\u001b[0m \u001b[0mfmt\u001b[0m\u001b[0;34m=\u001b[0m\u001b[0;34m\".2f\"\u001b[0m\u001b[0;34m)\u001b[0m\u001b[0;34m\u001b[0m\u001b[0;34m\u001b[0m\u001b[0m\n\u001b[1;32m      4\u001b[0m \u001b[0max\u001b[0m\u001b[0;34m.\u001b[0m\u001b[0minvert_yaxis\u001b[0m\u001b[0;34m(\u001b[0m\u001b[0;34m)\u001b[0m\u001b[0;34m\u001b[0m\u001b[0;34m\u001b[0m\u001b[0m\n",
      "\u001b[0;32m~/.virtualenvs/metodos/lib/python3.6/site-packages/pandas/core/frame.py\u001b[0m in \u001b[0;36mpivot\u001b[0;34m(self, index, columns, values)\u001b[0m\n\u001b[1;32m   5626\u001b[0m     \u001b[0;32mdef\u001b[0m \u001b[0mpivot\u001b[0m\u001b[0;34m(\u001b[0m\u001b[0mself\u001b[0m\u001b[0;34m,\u001b[0m \u001b[0mindex\u001b[0m\u001b[0;34m=\u001b[0m\u001b[0;32mNone\u001b[0m\u001b[0;34m,\u001b[0m \u001b[0mcolumns\u001b[0m\u001b[0;34m=\u001b[0m\u001b[0;32mNone\u001b[0m\u001b[0;34m,\u001b[0m \u001b[0mvalues\u001b[0m\u001b[0;34m=\u001b[0m\u001b[0;32mNone\u001b[0m\u001b[0;34m)\u001b[0m\u001b[0;34m:\u001b[0m\u001b[0;34m\u001b[0m\u001b[0;34m\u001b[0m\u001b[0m\n\u001b[1;32m   5627\u001b[0m         \u001b[0;32mfrom\u001b[0m \u001b[0mpandas\u001b[0m\u001b[0;34m.\u001b[0m\u001b[0mcore\u001b[0m\u001b[0;34m.\u001b[0m\u001b[0mreshape\u001b[0m\u001b[0;34m.\u001b[0m\u001b[0mpivot\u001b[0m \u001b[0;32mimport\u001b[0m \u001b[0mpivot\u001b[0m\u001b[0;34m\u001b[0m\u001b[0;34m\u001b[0m\u001b[0m\n\u001b[0;32m-> 5628\u001b[0;31m         \u001b[0;32mreturn\u001b[0m \u001b[0mpivot\u001b[0m\u001b[0;34m(\u001b[0m\u001b[0mself\u001b[0m\u001b[0;34m,\u001b[0m \u001b[0mindex\u001b[0m\u001b[0;34m=\u001b[0m\u001b[0mindex\u001b[0m\u001b[0;34m,\u001b[0m \u001b[0mcolumns\u001b[0m\u001b[0;34m=\u001b[0m\u001b[0mcolumns\u001b[0m\u001b[0;34m,\u001b[0m \u001b[0mvalues\u001b[0m\u001b[0;34m=\u001b[0m\u001b[0mvalues\u001b[0m\u001b[0;34m)\u001b[0m\u001b[0;34m\u001b[0m\u001b[0;34m\u001b[0m\u001b[0m\n\u001b[0m\u001b[1;32m   5629\u001b[0m \u001b[0;34m\u001b[0m\u001b[0m\n\u001b[1;32m   5630\u001b[0m     _shared_docs['pivot_table'] = \"\"\"\n",
      "\u001b[0;32m~/.virtualenvs/metodos/lib/python3.6/site-packages/pandas/core/reshape/pivot.py\u001b[0m in \u001b[0;36mpivot\u001b[0;34m(data, index, columns, values)\u001b[0m\n\u001b[1;32m    376\u001b[0m             \u001b[0mindex\u001b[0m \u001b[0;34m=\u001b[0m \u001b[0mdata\u001b[0m\u001b[0;34m.\u001b[0m\u001b[0mindex\u001b[0m\u001b[0;34m\u001b[0m\u001b[0;34m\u001b[0m\u001b[0m\n\u001b[1;32m    377\u001b[0m         \u001b[0;32melse\u001b[0m\u001b[0;34m:\u001b[0m\u001b[0;34m\u001b[0m\u001b[0;34m\u001b[0m\u001b[0m\n\u001b[0;32m--> 378\u001b[0;31m             \u001b[0mindex\u001b[0m \u001b[0;34m=\u001b[0m \u001b[0mdata\u001b[0m\u001b[0;34m[\u001b[0m\u001b[0mindex\u001b[0m\u001b[0;34m]\u001b[0m\u001b[0;34m\u001b[0m\u001b[0;34m\u001b[0m\u001b[0m\n\u001b[0m\u001b[1;32m    379\u001b[0m         \u001b[0mindex\u001b[0m \u001b[0;34m=\u001b[0m \u001b[0mMultiIndex\u001b[0m\u001b[0;34m.\u001b[0m\u001b[0mfrom_arrays\u001b[0m\u001b[0;34m(\u001b[0m\u001b[0;34m[\u001b[0m\u001b[0mindex\u001b[0m\u001b[0;34m,\u001b[0m \u001b[0mdata\u001b[0m\u001b[0;34m[\u001b[0m\u001b[0mcolumns\u001b[0m\u001b[0;34m]\u001b[0m\u001b[0;34m]\u001b[0m\u001b[0;34m)\u001b[0m\u001b[0;34m\u001b[0m\u001b[0;34m\u001b[0m\u001b[0m\n\u001b[1;32m    380\u001b[0m \u001b[0;34m\u001b[0m\u001b[0m\n",
      "\u001b[0;32m~/.virtualenvs/metodos/lib/python3.6/site-packages/pandas/core/frame.py\u001b[0m in \u001b[0;36m__getitem__\u001b[0;34m(self, key)\u001b[0m\n\u001b[1;32m   2925\u001b[0m             \u001b[0;32mif\u001b[0m \u001b[0mself\u001b[0m\u001b[0;34m.\u001b[0m\u001b[0mcolumns\u001b[0m\u001b[0;34m.\u001b[0m\u001b[0mnlevels\u001b[0m \u001b[0;34m>\u001b[0m \u001b[0;36m1\u001b[0m\u001b[0;34m:\u001b[0m\u001b[0;34m\u001b[0m\u001b[0;34m\u001b[0m\u001b[0m\n\u001b[1;32m   2926\u001b[0m                 \u001b[0;32mreturn\u001b[0m \u001b[0mself\u001b[0m\u001b[0;34m.\u001b[0m\u001b[0m_getitem_multilevel\u001b[0m\u001b[0;34m(\u001b[0m\u001b[0mkey\u001b[0m\u001b[0;34m)\u001b[0m\u001b[0;34m\u001b[0m\u001b[0;34m\u001b[0m\u001b[0m\n\u001b[0;32m-> 2927\u001b[0;31m             \u001b[0mindexer\u001b[0m \u001b[0;34m=\u001b[0m \u001b[0mself\u001b[0m\u001b[0;34m.\u001b[0m\u001b[0mcolumns\u001b[0m\u001b[0;34m.\u001b[0m\u001b[0mget_loc\u001b[0m\u001b[0;34m(\u001b[0m\u001b[0mkey\u001b[0m\u001b[0;34m)\u001b[0m\u001b[0;34m\u001b[0m\u001b[0;34m\u001b[0m\u001b[0m\n\u001b[0m\u001b[1;32m   2928\u001b[0m             \u001b[0;32mif\u001b[0m \u001b[0mis_integer\u001b[0m\u001b[0;34m(\u001b[0m\u001b[0mindexer\u001b[0m\u001b[0;34m)\u001b[0m\u001b[0;34m:\u001b[0m\u001b[0;34m\u001b[0m\u001b[0;34m\u001b[0m\u001b[0m\n\u001b[1;32m   2929\u001b[0m                 \u001b[0mindexer\u001b[0m \u001b[0;34m=\u001b[0m \u001b[0;34m[\u001b[0m\u001b[0mindexer\u001b[0m\u001b[0;34m]\u001b[0m\u001b[0;34m\u001b[0m\u001b[0;34m\u001b[0m\u001b[0m\n",
      "\u001b[0;32m~/.virtualenvs/metodos/lib/python3.6/site-packages/pandas/core/indexes/base.py\u001b[0m in \u001b[0;36mget_loc\u001b[0;34m(self, key, method, tolerance)\u001b[0m\n\u001b[1;32m   2657\u001b[0m                 \u001b[0;32mreturn\u001b[0m \u001b[0mself\u001b[0m\u001b[0;34m.\u001b[0m\u001b[0m_engine\u001b[0m\u001b[0;34m.\u001b[0m\u001b[0mget_loc\u001b[0m\u001b[0;34m(\u001b[0m\u001b[0mkey\u001b[0m\u001b[0;34m)\u001b[0m\u001b[0;34m\u001b[0m\u001b[0;34m\u001b[0m\u001b[0m\n\u001b[1;32m   2658\u001b[0m             \u001b[0;32mexcept\u001b[0m \u001b[0mKeyError\u001b[0m\u001b[0;34m:\u001b[0m\u001b[0;34m\u001b[0m\u001b[0;34m\u001b[0m\u001b[0m\n\u001b[0;32m-> 2659\u001b[0;31m                 \u001b[0;32mreturn\u001b[0m \u001b[0mself\u001b[0m\u001b[0;34m.\u001b[0m\u001b[0m_engine\u001b[0m\u001b[0;34m.\u001b[0m\u001b[0mget_loc\u001b[0m\u001b[0;34m(\u001b[0m\u001b[0mself\u001b[0m\u001b[0;34m.\u001b[0m\u001b[0m_maybe_cast_indexer\u001b[0m\u001b[0;34m(\u001b[0m\u001b[0mkey\u001b[0m\u001b[0;34m)\u001b[0m\u001b[0;34m)\u001b[0m\u001b[0;34m\u001b[0m\u001b[0;34m\u001b[0m\u001b[0m\n\u001b[0m\u001b[1;32m   2660\u001b[0m         \u001b[0mindexer\u001b[0m \u001b[0;34m=\u001b[0m \u001b[0mself\u001b[0m\u001b[0;34m.\u001b[0m\u001b[0mget_indexer\u001b[0m\u001b[0;34m(\u001b[0m\u001b[0;34m[\u001b[0m\u001b[0mkey\u001b[0m\u001b[0;34m]\u001b[0m\u001b[0;34m,\u001b[0m \u001b[0mmethod\u001b[0m\u001b[0;34m=\u001b[0m\u001b[0mmethod\u001b[0m\u001b[0;34m,\u001b[0m \u001b[0mtolerance\u001b[0m\u001b[0;34m=\u001b[0m\u001b[0mtolerance\u001b[0m\u001b[0;34m)\u001b[0m\u001b[0;34m\u001b[0m\u001b[0;34m\u001b[0m\u001b[0m\n\u001b[1;32m   2661\u001b[0m         \u001b[0;32mif\u001b[0m \u001b[0mindexer\u001b[0m\u001b[0;34m.\u001b[0m\u001b[0mndim\u001b[0m \u001b[0;34m>\u001b[0m \u001b[0;36m1\u001b[0m \u001b[0;32mor\u001b[0m \u001b[0mindexer\u001b[0m\u001b[0;34m.\u001b[0m\u001b[0msize\u001b[0m \u001b[0;34m>\u001b[0m \u001b[0;36m1\u001b[0m\u001b[0;34m:\u001b[0m\u001b[0;34m\u001b[0m\u001b[0;34m\u001b[0m\u001b[0m\n",
      "\u001b[0;32mpandas/_libs/index.pyx\u001b[0m in \u001b[0;36mpandas._libs.index.IndexEngine.get_loc\u001b[0;34m()\u001b[0m\n",
      "\u001b[0;32mpandas/_libs/index.pyx\u001b[0m in \u001b[0;36mpandas._libs.index.IndexEngine.get_loc\u001b[0;34m()\u001b[0m\n",
      "\u001b[0;32mpandas/_libs/hashtable_class_helper.pxi\u001b[0m in \u001b[0;36mpandas._libs.hashtable.PyObjectHashTable.get_item\u001b[0;34m()\u001b[0m\n",
      "\u001b[0;32mpandas/_libs/hashtable_class_helper.pxi\u001b[0m in \u001b[0;36mpandas._libs.hashtable.PyObjectHashTable.get_item\u001b[0;34m()\u001b[0m\n",
      "\u001b[0;31mKeyError\u001b[0m: 'K'"
     ]
    }
   ],
   "source": [
    "import seaborn as sns\n",
    "df_pivot = df.pivot(\"K\", \"sample_size\", \"accuracy\")\n",
    "ax = sns.heatmap(data=df_pivot, annot=True, fmt=\".2f\")\n",
    "ax.invert_yaxis()"
   ]
  },
  {
   "cell_type": "code",
   "execution_count": null,
   "metadata": {},
   "outputs": [],
   "source": [
    "## concluimos que distance_pow es el mejor\n",
    "## TODO: graficar cosas"
   ]
  }
 ],
 "metadata": {
  "kernelspec": {
   "display_name": "Python 3",
   "language": "python",
   "name": "python3"
  },
  "language_info": {
   "codemirror_mode": {
    "name": "ipython",
    "version": 3
   },
   "file_extension": ".py",
   "mimetype": "text/x-python",
   "name": "python",
   "nbconvert_exporter": "python",
   "pygments_lexer": "ipython3",
   "version": "3.6.9"
  }
 },
 "nbformat": 4,
 "nbformat_minor": 2
}
