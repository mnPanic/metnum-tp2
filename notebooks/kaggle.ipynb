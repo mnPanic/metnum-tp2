{
 "cells": [
  {
   "cell_type": "markdown",
   "metadata": {},
   "source": [
    "# kNN - Experimento variando K y tamaño de imagenes\n"
   ]
  },
  {
   "cell_type": "markdown",
   "metadata": {},
   "source": [
    "Definir los path al ejecutable de python 3.6 y sus librerías,\n",
    "de acuerdo al virtual env que estén corriendo."
   ]
  },
  {
   "cell_type": "code",
   "execution_count": null,
   "metadata": {},
   "outputs": [],
   "source": [
    "!cd .. && ./build.sh"
   ]
  },
  {
   "cell_type": "markdown",
   "metadata": {},
   "source": [
    "## Explorando los datos"
   ]
  },
  {
   "cell_type": "code",
   "execution_count": 3,
   "metadata": {},
   "outputs": [
    {
     "name": "stdout",
     "output_type": "stream",
     "text": [
      "The autoreload extension is already loaded. To reload it, use:\n",
      "  %reload_ext autoreload\n",
      "<class 'pandas.core.frame.DataFrame'>\n",
      "RangeIndex: 42000 entries, 0 to 41999\n",
      "Columns: 785 entries, label to pixel783\n",
      "dtypes: int64(785)\n",
      "memory usage: 251.5 MB\n"
     ]
    }
   ],
   "source": [
    "%load_ext autoreload\n",
    "%autoreload 2\n",
    "import pandas as pd\n",
    "\n",
    "df_train = pd.read_csv(\"../data/train.csv\")\n",
    "df_train.info()"
   ]
  },
  {
   "cell_type": "code",
   "execution_count": 4,
   "metadata": {},
   "outputs": [],
   "source": [
    "df_train.sample(frac=1)\n",
    "X = df_train[df_train.columns[1:]].values\n",
    "y = df_train[\"label\"].values.reshape(-1, 1)"
   ]
  },
  {
   "cell_type": "code",
   "execution_count": 5,
   "metadata": {},
   "outputs": [],
   "source": [
    "class KNNnPCAClassifier:\n",
    "    def __init__(self, k, alpha, weight):\n",
    "        self.knn_classifier = metnum.KNNClassifier(k, weight)\n",
    "        self.pca = metnum.PCA(alpha)\n",
    "\n",
    "    def fit(self, X_train, y_train):\n",
    "        self.pca.fit(X_train)\n",
    "        self.knn_classifier.fit(self.pca.transform(X_train), y_train)\n",
    "    \n",
    "    def predict(self, X):\n",
    "        return self.knn_classifier.predict(self.pca.transform(X))"
   ]
  },
  {
   "cell_type": "markdown",
   "metadata": {},
   "source": [
    "### Experimento"
   ]
  },
  {
   "cell_type": "code",
   "execution_count": null,
   "metadata": {},
   "outputs": [],
   "source": [
    "import metnum\n",
    "import pandas as pd\n",
    "from scoring import cross_validation as cv\n",
    "from sklearn import metrics as metrics\n",
    "from tqdm import tqdm\n",
    "\n",
    "clf = KNNnPCAClassifier(7,38)\n",
    "recall_scores = cv.cross_validate_recall(clf, X, y, 10)\n",
    "\n",
    "rows = []\n",
    "for weight in tqdm([\"uniform\", \"distance\", \"distance_pow\", \"distance_pow_5\", \"distance_pow_10\"]):\n",
    "    clf = metnum.KNNnPCAClassifier(7, 38, weight)\n",
    "    acc = cv.cross_validate(clf, X, y, metrics.accuracy_score, 10)\n",
    "    rows.append({\n",
    "        \"weight\": weight,\n",
    "        \"accuracy\": acc,\n",
    "    })\n",
    "\n",
    "df = pd.DataFrame(rows, columns=[\"weight\", \"accuracy\"])"
   ]
  },
  {
   "cell_type": "code",
   "execution_count": null,
   "metadata": {},
   "outputs": [],
   "source": [
    "df"
   ]
  },
  {
   "cell_type": "code",
   "execution_count": null,
   "metadata": {},
   "outputs": [],
   "source": [
    "df_r.to_csv(\"data/pca/recall/pca_digits.csv\", index=False)"
   ]
  }
 ],
 "metadata": {
  "kernelspec": {
   "display_name": "Python 3.8.2 64-bit ('metnum': venv)",
   "language": "python",
   "name": "python38264bitmetnumvenvc44a19ffde4845f8ad72094b1e6e18a8"
  },
  "language_info": {
   "codemirror_mode": {
    "name": "ipython",
    "version": 3
   },
   "file_extension": ".py",
   "mimetype": "text/x-python",
   "name": "python",
   "nbconvert_exporter": "python",
   "pygments_lexer": "ipython3",
   "version": "3.8.2"
  }
 },
 "nbformat": 4,
 "nbformat_minor": 2
}
