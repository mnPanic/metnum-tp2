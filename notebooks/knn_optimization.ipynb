{
 "cells": [
  {
   "cell_type": "markdown",
   "metadata": {},
   "source": [
    "# Optimizacion del k de kNN con weights distance_pow\n"
   ]
  },
  {
   "cell_type": "markdown",
   "metadata": {},
   "source": [
    "## Buildear"
   ]
  },
  {
   "cell_type": "code",
   "execution_count": null,
   "metadata": {},
   "outputs": [],
   "source": [
    "!cd .. && ./build.sh"
   ]
  },
  {
   "cell_type": "markdown",
   "metadata": {},
   "source": [
    "## Carga de datos"
   ]
  },
  {
   "cell_type": "code",
   "execution_count": 1,
   "metadata": {},
   "outputs": [
    {
     "name": "stdout",
     "output_type": "stream",
     "text": [
      "<class 'pandas.core.frame.DataFrame'>\n",
      "RangeIndex: 42000 entries, 0 to 41999\n",
      "Columns: 785 entries, label to pixel783\n",
      "dtypes: int64(785)\n",
      "memory usage: 251.5 MB\n"
     ]
    }
   ],
   "source": [
    "%load_ext autoreload\n",
    "%autoreload 2\n",
    "import pandas as pd\n",
    "\n",
    "df_train = pd.read_csv(\"../data/train.csv\")\n",
    "df_train.info()"
   ]
  },
  {
   "cell_type": "markdown",
   "metadata": {},
   "source": [
    "### Reducir el dataset\n",
    "\n",
    "Ya que el dataset es grande, me quedo con una porción de éste\n",
    "\n",
    "**<font color=red>ESTO ES SOLO PARA HACER PRUEBAS. CUANDO REPORTEN LOS RESULTADOS, USAR DATASET COMPLETO</font>**"
   ]
  },
  {
   "cell_type": "code",
   "execution_count": null,
   "metadata": {},
   "outputs": [],
   "source": [
    "df_train.sample(frac=1)\n",
    "df_train = df_train[:1000]\n",
    "df_train.info()"
   ]
  },
  {
   "cell_type": "code",
   "execution_count": 2,
   "metadata": {},
   "outputs": [
    {
     "data": {
      "text/plain": [
       "((42000, 784), (42000, 1))"
      ]
     },
     "execution_count": 2,
     "metadata": {},
     "output_type": "execute_result"
    }
   ],
   "source": [
    "# Uso values para mandar todo a arrays de numpy\n",
    "X = df_train[df_train.columns[1:]].values\n",
    "y = df_train[\"label\"].values.reshape(-1, 1)\n",
    "\n",
    "X.shape, y.shape"
   ]
  },
  {
   "cell_type": "markdown",
   "metadata": {},
   "source": [
    "### Optimizacion de k con simmulated annealing"
   ]
  },
  {
   "cell_type": "code",
   "execution_count": 3,
   "metadata": {},
   "outputs": [],
   "source": [
    "import metnum\n",
    "\n",
    "import numpy.random as rn\n",
    "import numpy as np\n",
    "\n",
    "from scoring import cross_validation as cv\n",
    "from scoring import metrics\n",
    "\n",
    "k_range = (1, 100)\n",
    "T = 100\n",
    "\n",
    "# Seed del random para reproducibilidad del experimento\n",
    "rn.seed(2020)\n",
    "\n",
    "## Funciones parametro de simm ann\n",
    "\n",
    "def clip_k(k):\n",
    "    \"\"\"Le pasas el state y lo pone en el rango valido\"\"\"\n",
    "    a, b = k_range\n",
    "    \n",
    "    return max(a,min(b,int(k)))\n",
    "\n",
    "def random_start():\n",
    "    \"\"\"Elige un state start aleatorio\"\"\"\n",
    "    a, b = k_range\n",
    "    rnd_k = a + (b - a) * rn.random_sample()\n",
    "    return clip_k(rnd_k)\n",
    "\n",
    "def random_neighbour(actual_k, fraction=0.0):\n",
    "    \"\"\"\n",
    "    Varia un poco el estado actual para moverse en el espacio\n",
    "    y probar una solucion distinta.\n",
    "    \"\"\"\n",
    "    a, b = k_range\n",
    "    new_k = actual_k\n",
    "    \n",
    "    MAX_ATTEMPTS = 10\n",
    "    attempts = 0\n",
    "    while new_k == actual_k and fraction != 1.0 and attempts < 10: # add circuit breaker at 10 attempts\n",
    "        attempts += 1\n",
    "        \n",
    "        a, b = k_range\n",
    "    \n",
    "        # https://numpy.org/doc/1.18/reference/random/generated/numpy.random.random_sample.html\n",
    "        # (b - a) * random_sample() + a\n",
    "        # to sample Unif[a, b), with b > a\n",
    "        \n",
    "        n = (b - a)/2\n",
    "\n",
    "        # Queremos de Unif[-n, n/2) para que tienda a negativos\n",
    "        # (n/2 - -n) * random_sample() + -n\n",
    "        # (3/2n) * random_sample() - n\n",
    "        sample = (n/2 + n) * rn.random_sample() - n\n",
    "        \n",
    "        # Multiplicamos al sample por ese factor para que mientras mas cereca\n",
    "        # del final de la optimizacion estemos, nos alejemos menos.\n",
    "        delta = sample * (1.0-fraction)\n",
    "\n",
    "        new_k = clip_k(actual_k + int(delta))\n",
    "        \n",
    "    return new_k\n",
    "\n",
    "def acceptance_probability(cost, new_cost, temperature):\n",
    "    \"\"\"Probabilidad de aceptar una solucion como la nueva mejor\"\"\"\n",
    "    if new_cost > cost: # cost en nuestro caso va a ser scoring\n",
    "        # Si la solucion nueva es mejor que la anterior\n",
    "        # la tomamos como la nueva mejor siempre.\n",
    "        return 1\n",
    "\n",
    "    p = np.exp(- ( cost - new_cost) / temperature)\n",
    "    return p\n",
    "\n",
    "def change_temperature(fraction):\n",
    "    \"\"\"Cuanto estas buscando soluciones\"\"\"\n",
    "    return T*(1-fraction)\n"
   ]
  },
  {
   "cell_type": "code",
   "execution_count": 4,
   "metadata": {},
   "outputs": [
    {
     "name": "stdout",
     "output_type": "stream",
     "text": [
      "starting simulated annealing\n"
     ]
    },
    {
     "name": "stderr",
     "output_type": "stream",
     "text": [
      "  0%|          | 0/25 [00:00<?, ?it/s]"
     ]
    },
    {
     "name": "stdout",
     "output_type": "stream",
     "text": [
      "initial: state = 98, score = 0.9414523809523809\n"
     ]
    },
    {
     "name": "stderr",
     "output_type": "stream",
     "text": [
      "  8%|▊         | 2/25 [33:31<6:25:39, 1006.08s/it]"
     ]
    },
    {
     "name": "stdout",
     "output_type": "stream",
     "text": [
      "#2 Found better solution [k = 73, score = 0.946595238095238]\n"
     ]
    },
    {
     "name": "stderr",
     "output_type": "stream",
     "text": [
      " 12%|█▏        | 3/25 [50:27<6:10:02, 1009.21s/it]"
     ]
    },
    {
     "name": "stdout",
     "output_type": "stream",
     "text": [
      "#3 Found better solution [k = 44, score = 0.9535]\n"
     ]
    },
    {
     "name": "stderr",
     "output_type": "stream",
     "text": [
      " 16%|█▌        | 4/25 [1:07:44<5:56:07, 1017.51s/it]"
     ]
    },
    {
     "name": "stdout",
     "output_type": "stream",
     "text": [
      "#4 Found better solution [k = 24, score = 0.9598571428571429]\n"
     ]
    },
    {
     "name": "stderr",
     "output_type": "stream",
     "text": [
      " 20%|██        | 5/25 [1:25:12<5:42:11, 1026.60s/it]"
     ]
    },
    {
     "name": "stdout",
     "output_type": "stream",
     "text": [
      "#5 Found better solution [k = 1, score = 0.9656190476190476]\n"
     ]
    },
    {
     "name": "stderr",
     "output_type": "stream",
     "text": [
      " 24%|██▍       | 6/25 [1:43:12<5:30:12, 1042.74s/it]"
     ]
    },
    {
     "name": "stdout",
     "output_type": "stream",
     "text": [
      "#6 Found better solution [k = 6, score = 0.9688809523809524]\n"
     ]
    },
    {
     "name": "stderr",
     "output_type": "stream",
     "text": [
      " 40%|████      | 10/25 [2:55:40<4:28:59, 1075.95s/it]"
     ]
    },
    {
     "name": "stdout",
     "output_type": "stream",
     "text": [
      "#10 Found better solution [k = 4, score = 0.9690238095238095]\n"
     ]
    },
    {
     "name": "stderr",
     "output_type": "stream",
     "text": [
      " 76%|███████▌  | 19/25 [5:22:11<1:36:32, 965.44s/it]"
     ]
    },
    {
     "name": "stdout",
     "output_type": "stream",
     "text": [
      "State reset\n"
     ]
    },
    {
     "name": "stderr",
     "output_type": "stream",
     "text": [
      "100%|██████████| 25/25 [7:06:48<00:00, 1024.35s/it]"
     ]
    },
    {
     "name": "stdout",
     "output_type": "stream",
     "text": [
      "Best solution: state = 4, score = 0.9690238095238095\n"
     ]
    },
    {
     "name": "stderr",
     "output_type": "stream",
     "text": [
      "\n"
     ]
    }
   ],
   "source": [
    "from metaheuristics import simulated_annealing as sa\n",
    "\n",
    "K = 4\n",
    "\n",
    "def scoring(k):\n",
    "    # classifier a optimiazr\n",
    "    clf = metnum.KNNClassifier(k, \"distance_pow\")\n",
    "    accuracy = cv.cross_validate(clf, X, y, metrics.accuracy_score, K)\n",
    "    return accuracy\n",
    "\n",
    "best_state, history = sa.annealing(\n",
    "    random_start,\n",
    "    scoring,\n",
    "    random_neighbour,\n",
    "    acceptance_probability,\n",
    "    change_temperature,\n",
    "    max_state_reset_steps=10,\n",
    "    max_steps=26,\n",
    "    debug=True,\n",
    ")\n",
    "\n",
    "# Save history in df\n",
    "df = pd.DataFrame(history, columns=[\"step\", \"state\", \"score\", \"best\"])"
   ]
  },
  {
   "cell_type": "code",
   "execution_count": 10,
   "metadata": {},
   "outputs": [
    {
     "data": {
      "text/plain": [
       "<matplotlib.axes._subplots.AxesSubplot at 0x7efdf5f8a3c8>"
      ]
     },
     "execution_count": 10,
     "metadata": {},
     "output_type": "execute_result"
    },
    {
     "data": {
      "image/png": "[encoded data removed]",
      "text/plain": [
       "<Figure size 1296x360 with 2 Axes>"
      ]
     },
     "metadata": {
      "needs_background": "light"
     },
     "output_type": "display_data"
    }
   ],
   "source": [
    "import seaborn as sns\n",
    "import matplotlib.pyplot as plt\n",
    "fig, (ax_state, ax_score) = plt.subplots(1, 2, figsize=(18, 5))\n",
    "ax_score.set_ylim(0.939, 1)\n",
    "ax_state.set_ylim(k_range)\n",
    "sns.lineplot(data=df, x=\"step\", y=\"state\", ax=ax_state)\n",
    "sns.lineplot(data=df, x=\"step\", y=\"score\", ax=ax_score)"
   ]
  },
  {
   "cell_type": "code",
   "execution_count": 14,
   "metadata": {},
   "outputs": [
    {
     "data": {
      "text/plain": [
       "Text(0.5, 1.0, 'state by score for kNN')"
      ]
     },
     "execution_count": 14,
     "metadata": {},
     "output_type": "execute_result"
    },
    {
     "data": {
      "image/png": "[encoded data removed]",
      "text/plain": [
       "<Figure size 432x288 with 1 Axes>"
      ]
     },
     "metadata": {},
     "output_type": "display_data"
    }
   ],
   "source": [
    "import seaborn as sns\n",
    "sns.set(style=\"whitegrid\")\n",
    "plot = sns.scatterplot(\n",
    "    data=df, x=\"state\", y=\"score\", \n",
    "    legend=\"full\",\n",
    ")\n",
    "#plot.set_ylim(0.945, 0.98)\n",
    "plot.set_title(\"state by score for kNN\")"
   ]
  },
  {
   "cell_type": "code",
   "execution_count": 5,
   "metadata": {},
   "outputs": [],
   "source": [
    "df.to_csv(\"data/knn/optimization/history_best_4.csv\", index=False)"
   ]
  },
  {
   "cell_type": "code",
   "execution_count": null,
   "metadata": {},
   "outputs": [],
   "source": [
    "## concluimos que distance_pow es el mejor\n",
    "## TODO: graficar cosas"
   ]
  }
 ],
 "metadata": {
  "kernelspec": {
   "display_name": "Python 3",
   "language": "python",
   "name": "python3"
  },
  "language_info": {
   "codemirror_mode": {
    "name": "ipython",
    "version": 3
   },
   "file_extension": ".py",
   "mimetype": "text/x-python",
   "name": "python",
   "nbconvert_exporter": "python",
   "pygments_lexer": "ipython3",
   "version": "3.6.9"
  }
 },
 "nbformat": 4,
 "nbformat_minor": 2
}
