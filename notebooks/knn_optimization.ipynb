{
 "cells": [
  {
   "cell_type": "markdown",
   "metadata": {},
   "source": [
    "# Optimizacion del k de kNN con weights distance_pow\n"
   ]
  },
  {
   "cell_type": "markdown",
   "metadata": {},
   "source": [
    "## Buildear"
   ]
  },
  {
   "cell_type": "code",
   "execution_count": null,
   "metadata": {},
   "outputs": [],
   "source": [
    "!cd .. && ./build.sh"
   ]
  },
  {
   "cell_type": "markdown",
   "metadata": {},
   "source": [
    "## Carga de datos"
   ]
  },
  {
   "cell_type": "code",
   "execution_count": null,
   "metadata": {},
   "outputs": [],
   "source": [
    "%load_ext autoreload\n",
    "%autoreload 2\n",
    "import pandas as pd\n",
    "\n",
    "df_train = pd.read_csv(\"../data/train.csv\")\n",
    "df_train.info()"
   ]
  },
  {
   "cell_type": "markdown",
   "metadata": {},
   "source": [
    "### Reducir el dataset\n",
    "\n",
    "Ya que el dataset es grande, me quedo con una porción de éste\n",
    "\n",
    "**<font color=red>ESTO ES SOLO PARA HACER PRUEBAS. CUANDO REPORTEN LOS RESULTADOS, USAR DATASET COMPLETO</font>**"
   ]
  },
  {
   "cell_type": "code",
   "execution_count": null,
   "metadata": {},
   "outputs": [],
   "source": [
    "df_train.sample(frac=1)\n",
    "df_train = df_train[:1000]\n",
    "df_train.info()"
   ]
  },
  {
   "cell_type": "code",
   "execution_count": null,
   "metadata": {},
   "outputs": [],
   "source": [
    "# Uso values para mandar todo a arrays de numpy\n",
    "X = df_train[df_train.columns[1:]].values\n",
    "y = df_train[\"label\"].values.reshape(-1, 1)\n",
    "\n",
    "X.shape, y.shape"
   ]
  },
  {
   "cell_type": "markdown",
   "metadata": {},
   "source": [
    "### Optimizacion de k con simmulated annealing"
   ]
  },
  {
   "cell_type": "code",
   "execution_count": null,
   "metadata": {},
   "outputs": [],
   "source": [
    "import metnum\n",
    "\n",
    "import numpy.random as rn\n",
    "import numpy as np\n",
    "\n",
    "from scoring import cross_validation as cv\n",
    "from scoring import metrics\n",
    "\n",
    "k_range = (1, 100)\n",
    "T = 100\n",
    "\n",
    "# Seed del random para reproducibilidad del experimento\n",
    "rn.seed(2020)\n",
    "\n",
    "## Funciones parametro de simm ann\n",
    "\n",
    "def clip_k(k):\n",
    "    \"\"\"Le pasas el state y lo pone en el rango valido\"\"\"\n",
    "    a, b = k_range\n",
    "    \n",
    "    return max(a,min(b,int(k)))\n",
    "\n",
    "def random_start():\n",
    "    \"\"\"Elige un state start aleatorio\"\"\"\n",
    "    a, b = k_range\n",
    "    rnd_k = a + (b - a) * rn.random_sample()\n",
    "    return clip_k(rnd_k)\n",
    "\n",
    "def random_neighbour(actual_k, fraction=0.0):\n",
    "    \"\"\"\n",
    "    Varia un poco el estado actual para moverse en el espacio\n",
    "    y probar una solucion distinta.\n",
    "    \"\"\"\n",
    "    a, b = k_range\n",
    "    new_k = actual_k\n",
    "    \n",
    "    MAX_ATTEMPTS = 10\n",
    "    attempts = 0\n",
    "    while new_k == actual_k and fraction != 1.0 and attempts < 10: # add circuit breaker at 10 attempts\n",
    "        attempts += 1\n",
    "        \n",
    "        a, b = k_range\n",
    "    \n",
    "        # https://numpy.org/doc/1.18/reference/random/generated/numpy.random.random_sample.html\n",
    "        # (b - a) * random_sample() + a\n",
    "        # to sample Unif[a, b), with b > a\n",
    "        \n",
    "        n = (b - a)/2\n",
    "\n",
    "        # Queremos de Unif[-n, n/2) para que tienda a negativos\n",
    "        # (n/2 - -n) * random_sample() + -n\n",
    "        # (3/2n) * random_sample() - n\n",
    "        sample = (n/2 + n) * rn.random_sample() - n\n",
    "        \n",
    "        # Multiplicamos al sample por ese factor para que mientras mas cereca\n",
    "        # del final de la optimizacion estemos, nos alejemos menos.\n",
    "        delta = sample * (1.0-fraction)\n",
    "\n",
    "        new_k = clip_k(actual_k + int(delta))\n",
    "        \n",
    "    return new_k\n",
    "\n",
    "def acceptance_probability(cost, new_cost, temperature):\n",
    "    \"\"\"Probabilidad de aceptar una solucion como la nueva mejor\"\"\"\n",
    "    if new_cost > cost: # cost en nuestro caso va a ser scoring\n",
    "        # Si la solucion nueva es mejor que la anterior\n",
    "        # la tomamos como la nueva mejor siempre.\n",
    "        return 1\n",
    "\n",
    "    p = np.exp(- ( cost - new_cost) / temperature)\n",
    "    return p\n",
    "\n",
    "def change_temperature(fraction):\n",
    "    \"\"\"Cuanto estas buscando soluciones\"\"\"\n",
    "    return T*(1-fraction)\n"
   ]
  },
  {
   "cell_type": "code",
   "execution_count": null,
   "metadata": {},
   "outputs": [],
   "source": [
    "from metaheuristics import simulated_annealing as sa\n",
    "\n",
    "K = 4\n",
    "\n",
    "def scoring(k):\n",
    "    # classifier a optimiazr\n",
    "    clf = metnum.KNNClassifier(k, \"distance_pow\")\n",
    "    accuracy = cv.cross_validate(clf, X, y, metrics.accuracy_score, K)\n",
    "    return accuracy\n",
    "\n",
    "best_state, history = sa.annealing(\n",
    "    random_start,\n",
    "    scoring,\n",
    "    random_neighbour,\n",
    "    acceptance_probability,\n",
    "    change_temperature,\n",
    "    max_state_reset_steps=10,\n",
    "    max_steps=26,\n",
    "    debug=True,\n",
    ")\n",
    "\n",
    "# Save history in df\n",
    "df = pd.DataFrame(history, columns=[\"step\", \"state\", \"score\", \"best\"])"
   ]
  },
  {
   "cell_type": "code",
   "execution_count": null,
   "metadata": {},
   "outputs": [],
   "source": [
    "import seaborn as sns\n",
    "import matplotlib.pyplot as plt\n",
    "fig, (ax_state, ax_score) = plt.subplots(1, 2, figsize=(18, 5))\n",
    "ax_score.set_ylim(0, 1)\n",
    "ax_state.set_ylim(k_range)\n",
    "sns.lineplot(data=df, x=\"step\", y=\"state\", ax=ax_state)\n",
    "sns.lineplot(data=df, x=\"step\", y=\"score\", ax=ax_score)"
   ]
  },
  {
   "cell_type": "code",
   "execution_count": null,
   "metadata": {},
   "outputs": [],
   "source": [
    "import seaborn as sns\n",
    "sns.set(style=\"whitegrid\")\n",
    "plot = sns.scatterplot(\n",
    "    data=df, x=\"k\", y=\"accuracy\", \n",
    "    hue=\"weight_type\",\n",
    "    legend=\"full\",\n",
    ")\n",
    "plot.set_ylim(0.945, 0.98)"
   ]
  },
  {
   "cell_type": "code",
   "execution_count": null,
   "metadata": {},
   "outputs": [],
   "source": [
    "df.to_csv(\"data/knn/optimization/history_best_k.csv\", index=False)"
   ]
  },
  {
   "cell_type": "code",
   "execution_count": null,
   "metadata": {},
   "outputs": [],
   "source": [
    "## concluimos que distance_pow es el mejor\n",
    "## TODO: graficar cosas"
   ]
  }
 ],
 "metadata": {
  "kernelspec": {
   "display_name": "Python 3",
   "language": "python",
   "name": "python3"
  },
  "language_info": {
   "codemirror_mode": {
    "name": "ipython",
    "version": 3
   },
   "file_extension": ".py",
   "mimetype": "text/x-python",
   "name": "python",
   "nbconvert_exporter": "python",
   "pygments_lexer": "ipython3",
   "version": "3.6.9"
  }
 },
 "nbformat": 4,
 "nbformat_minor": 2
}
