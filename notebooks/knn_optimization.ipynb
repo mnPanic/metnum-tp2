{
 "cells": [
  {
   "cell_type": "markdown",
   "metadata": {},
   "source": [
    "# Optimizacion del k de kNN con weights distance_pow\n"
   ]
  },
  {
   "cell_type": "markdown",
   "metadata": {},
   "source": [
    "## Buildear"
   ]
  },
  {
   "cell_type": "code",
   "execution_count": null,
   "metadata": {},
   "outputs": [],
   "source": [
    "!cd .. && ./build.sh"
   ]
  },
  {
   "cell_type": "markdown",
   "metadata": {},
   "source": [
    "## Carga de datos"
   ]
  },
  {
   "cell_type": "code",
   "execution_count": 46,
   "metadata": {},
   "outputs": [
    {
     "name": "stdout",
     "output_type": "stream",
     "text": [
      "The autoreload extension is already loaded. To reload it, use:\n",
      "  %reload_ext autoreload\n",
      "<class 'pandas.core.frame.DataFrame'>\n",
      "RangeIndex: 42000 entries, 0 to 41999\n",
      "Columns: 785 entries, label to pixel783\n",
      "dtypes: int64(785)\n",
      "memory usage: 251.5 MB\n"
     ]
    }
   ],
   "source": [
    "%load_ext autoreload\n",
    "%autoreload 2\n",
    "import pandas as pd\n",
    "\n",
    "df_train = pd.read_csv(\"../data/train.csv\")\n",
    "df_train.info()"
   ]
  },
  {
   "cell_type": "markdown",
   "metadata": {},
   "source": [
    "### Reducir el dataset\n",
    "\n",
    "Ya que el dataset es grande, me quedo con una porción de éste\n",
    "\n",
    "**<font color=red>ESTO ES SOLO PARA HACER PRUEBAS. CUANDO REPORTEN LOS RESULTADOS, USAR DATASET COMPLETO</font>**"
   ]
  },
  {
   "cell_type": "code",
   "execution_count": 47,
   "metadata": {},
   "outputs": [
    {
     "name": "stdout",
     "output_type": "stream",
     "text": [
      "<class 'pandas.core.frame.DataFrame'>\n",
      "RangeIndex: 5000 entries, 0 to 4999\n",
      "Columns: 785 entries, label to pixel783\n",
      "dtypes: int64(785)\n",
      "memory usage: 29.9 MB\n"
     ]
    }
   ],
   "source": [
    "df_train.sample(frac=1)\n",
    "df_train = df_train[:5000]\n",
    "df_train.info()"
   ]
  },
  {
   "cell_type": "code",
   "execution_count": 48,
   "metadata": {},
   "outputs": [
    {
     "data": {
      "text/plain": [
       "((5000, 784), (5000, 1))"
      ]
     },
     "execution_count": 48,
     "metadata": {},
     "output_type": "execute_result"
    }
   ],
   "source": [
    "# Uso values para mandar todo a arrays de numpy\n",
    "X = df_train[df_train.columns[1:]].values\n",
    "y = df_train[\"label\"].values.reshape(-1, 1)\n",
    "\n",
    "X.shape, y.shape"
   ]
  },
  {
   "cell_type": "markdown",
   "metadata": {},
   "source": [
    "### Optimizacion de k con simmulated annealing"
   ]
  },
  {
   "cell_type": "code",
   "execution_count": 53,
   "metadata": {},
   "outputs": [],
   "source": [
    "import metnum\n",
    "\n",
    "import numpy.random as rn\n",
    "import numpy as np\n",
    "\n",
    "from scoring import cross_validation as cv\n",
    "from scoring import metrics\n",
    "\n",
    "k_range = (1, 100)\n",
    "T = 100\n",
    "\n",
    "## Funciones parametro de simm ann\n",
    "\n",
    "def clip_k(k):\n",
    "    \"\"\"Le pasas el state y lo pone en el rango valido\"\"\"\n",
    "    a, b = k_range\n",
    "    \n",
    "    return max(a,min(b,int(k)))\n",
    "\n",
    "def random_start():\n",
    "    \"\"\"Elige un state start aleatorio\"\"\"\n",
    "    a, b = k_range\n",
    "    rnd_k = a + (b - a) * rn.random_sample()\n",
    "    return clip_k(rnd_k)\n",
    "\n",
    "def random_neighbour(actual_k, fraction=0.0):\n",
    "    \"\"\"\n",
    "    Varia un poco el estado actual para moverse en el espacio\n",
    "    y probar una solucion distinta.\n",
    "    \"\"\"\n",
    "    a, b = k_range\n",
    "    new_k = actual_k\n",
    "    \n",
    "    while new_k == actual_k and fraction != 1.0:\n",
    "        delta = int((b - a) * (0.5-rn.random_sample()) * (1.0-fraction))\n",
    "        new_k = clip_k(actual_k + delta)\n",
    "        \n",
    "    return new_k\n",
    "\n",
    "def acceptance_probability(cost, new_cost, temperature):\n",
    "    \"\"\"Probabilidad de aceptar una solucion como la nueva mejor\"\"\"\n",
    "    if new_cost > cost: # cost en nuestro caso va a ser scoring\n",
    "        # Si la solucion nueva es mejor que la anterior\n",
    "        # la tomamos como la nueva mejor siempre.\n",
    "        return 1\n",
    "\n",
    "    p = np.exp(- ( cost - new_cost) / temperature)\n",
    "    return p\n",
    "\n",
    "def change_temperature(fraction):\n",
    "    \"\"\"Cuanto estas buscando soluciones\"\"\"\n",
    "    return T*(1-fraction)\n"
   ]
  },
  {
   "cell_type": "code",
   "execution_count": null,
   "metadata": {},
   "outputs": [
    {
     "name": "stderr",
     "output_type": "stream",
     "text": [
      "  0%|          | 0/9 [00:00<?, ?it/s]"
     ]
    },
    {
     "name": "stdout",
     "output_type": "stream",
     "text": [
      "initial: state = 54, score = 0.8982\n"
     ]
    },
    {
     "name": "stderr",
     "output_type": "stream",
     "text": [
      " 56%|█████▌    | 5/9 [01:23<01:06, 16.65s/it]"
     ]
    }
   ],
   "source": [
    "from metaheuristics import simulated_annealing as sa\n",
    "\n",
    "K = 4\n",
    "\n",
    "def scoring(k):\n",
    "    # classifier a optimiazr\n",
    "    clf = metnum.KNNClassifier(k, \"distance_pow\")\n",
    "    accuracy = cv.cross_validate(clf, X, y, metrics.accuracy_score, K)\n",
    "    return accuracy\n",
    "\n",
    "best_state, history = sa.annealing(\n",
    "    random_start,\n",
    "    scoring,\n",
    "    random_neighbour,\n",
    "    acceptance_probability,\n",
    "    change_temperature,\n",
    "    max_state_reset_steps=50,\n",
    "    max_steps=10,\n",
    "    debug=True,\n",
    ")\n",
    "\n",
    "# Save history in df\n",
    "df = pd.DataFrame(history, columns=[\"step\", \"state\", \"score\", \"best\"])"
   ]
  },
  {
   "cell_type": "code",
   "execution_count": 52,
   "metadata": {},
   "outputs": [
    {
     "data": {
      "image/png": "[encoded data removed]",
      "text/plain": [
       "<Figure size 1296x360 with 2 Axes>"
      ]
     },
     "metadata": {
      "needs_background": "light"
     },
     "output_type": "display_data"
    }
   ],
   "source": [
    "import seaborn as sns\n",
    "import matplotlib.pyplot as plt\n",
    "fig, (ax_state, ax_score) = plt.subplots(1, 2, figsize=(18, 5))\n",
    "ax_score.set_ylim(0, 1)\n",
    "plot = sns.lineplot(data=df, x=\"step\", y=\"state\", ax=ax_state)\n",
    "plot = sns.lineplot(data=df, x=\"step\", y=\"score\", ax=ax_score)"
   ]
  },
  {
   "cell_type": "code",
   "execution_count": 9,
   "metadata": {},
   "outputs": [
    {
     "data": {
      "text/plain": [
       "(0.945, 0.98)"
      ]
     },
     "execution_count": 9,
     "metadata": {},
     "output_type": "execute_result"
    },
    {
     "data": {
      "image/png": "[encoded data removed]",
      "text/plain": [
       "<Figure size 432x288 with 1 Axes>"
      ]
     },
     "metadata": {},
     "output_type": "display_data"
    }
   ],
   "source": [
    "import seaborn as sns\n",
    "sns.set(style=\"whitegrid\")\n",
    "plot = sns.scatterplot(\n",
    "    data=df, x=\"k\", y=\"accuracy\", \n",
    "    hue=\"weight_type\",\n",
    "    legend=\"full\",\n",
    ")\n",
    "plot.set_ylim(0.945, 0.98)"
   ]
  },
  {
   "cell_type": "code",
   "execution_count": 4,
   "metadata": {},
   "outputs": [],
   "source": [
    "df.to_csv(\"data/knn/optimization/history.csv\", index=False)"
   ]
  },
  {
   "cell_type": "code",
   "execution_count": null,
   "metadata": {},
   "outputs": [],
   "source": [
    "## concluimos que distance_pow es el mejor\n",
    "## TODO: graficar cosas"
   ]
  }
 ],
 "metadata": {
  "kernelspec": {
   "display_name": "Python 3",
   "language": "python",
   "name": "python3"
  },
  "language_info": {
   "codemirror_mode": {
    "name": "ipython",
    "version": 3
   },
   "file_extension": ".py",
   "mimetype": "text/x-python",
   "name": "python",
   "nbconvert_exporter": "python",
   "pygments_lexer": "ipython3",
   "version": "3.6.9"
  }
 },
 "nbformat": 4,
 "nbformat_minor": 2
}
