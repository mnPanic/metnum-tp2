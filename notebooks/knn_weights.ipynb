{
 "cells": [
  {
   "cell_type": "markdown",
   "metadata": {},
   "source": [
    "# Reconocimiento de dígitos con KNN, con y sin weights\n"
   ]
  },
  {
   "cell_type": "markdown",
   "metadata": {},
   "source": [
    "Definir los path al ejecutable de python 3.6 y sus librerías,\n",
    "de acuerdo al virtual env que estén corriendo."
   ]
  },
  {
   "cell_type": "code",
   "execution_count": null,
   "metadata": {},
   "outputs": [],
   "source": [
    "!cd .. && ./build.sh"
   ]
  },
  {
   "cell_type": "markdown",
   "metadata": {},
   "source": [
    "## Explorando los datos"
   ]
  },
  {
   "cell_type": "code",
   "execution_count": 1,
   "metadata": {},
   "outputs": [
    {
     "name": "stdout",
     "output_type": "stream",
     "text": [
      "<class 'pandas.core.frame.DataFrame'>\n",
      "RangeIndex: 42000 entries, 0 to 41999\n",
      "Columns: 785 entries, label to pixel783\n",
      "dtypes: int64(785)\n",
      "memory usage: 251.5 MB\n"
     ]
    }
   ],
   "source": [
    "%load_ext autoreload\n",
    "%autoreload 2\n",
    "import pandas as pd\n",
    "\n",
    "df_train = pd.read_csv(\"../data/train.csv\")\n",
    "df_train.info()"
   ]
  },
  {
   "cell_type": "markdown",
   "metadata": {},
   "source": [
    "### Reducir el dataset\n",
    "\n",
    "Ya que el dataset es grande, me quedo con una porción de éste\n",
    "\n",
    "**<font color=red>ESTO ES SOLO PARA HACER PRUEBAS. CUANDO REPORTEN LOS RESULTADOS, USAR DATASET COMPLETO</font>**"
   ]
  },
  {
   "cell_type": "code",
   "execution_count": null,
   "metadata": {},
   "outputs": [],
   "source": [
    "df_train.sample(frac=1)\n",
    "df_train = df_train[:5000]\n",
    "df_train.info()"
   ]
  },
  {
   "cell_type": "code",
   "execution_count": 2,
   "metadata": {},
   "outputs": [
    {
     "data": {
      "text/plain": [
       "((42000, 784), (42000, 1))"
      ]
     },
     "execution_count": 2,
     "metadata": {},
     "output_type": "execute_result"
    }
   ],
   "source": [
    "# Uso values para mandar todo a arrays de numpy\n",
    "X = df_train[df_train.columns[1:]].values\n",
    "y = df_train[\"label\"].values.reshape(-1, 1)\n",
    "\n",
    "X.shape, y.shape"
   ]
  },
  {
   "cell_type": "markdown",
   "metadata": {},
   "source": [
    "### Conjunto de development"
   ]
  },
  {
   "cell_type": "code",
   "execution_count": null,
   "metadata": {},
   "outputs": [],
   "source": [
    "import metnum\n",
    "import pandas as pd\n",
    "\n",
    "from scoring import metrics\n",
    "from scoring import cross_validation as cv\n",
    "from tqdm import tqdm\n",
    "\n",
    "scoring_fns = {\n",
    "    \"accuracy\":  metrics.accuracy_score,\n",
    "    \"recall\":    metrics.recall_score,\n",
    "    \"precision\": metrics.precision_score,\n",
    "    \"f1\":        metrics.f1_score,\n",
    "}\n",
    "\n",
    "ks = [1, 2, 4, 6, 8, 10, 20, 30, 40, 60, 80, 100]#, 150, 200, 250, 300, 400, 500, 600, 800, 1000]\n",
    "\n",
    "rows = []\n",
    "\n",
    "for k in tqdm(ks):\n",
    "    clf = metnum.KNNClassifier(k)\n",
    "    for weight_type in [\"uniform\", \"distance\", \"distance_pow\"]:\n",
    "        scores = cv.cross_validate_fns(clf, X, y, scoring_fns, 4, weights=weight_type)\n",
    "\n",
    "        # scores es un dict con las keys de scoring_fns, que son las\n",
    "        # mismas que las columnas del dataframe.\n",
    "        rows.append({\n",
    "            **{\n",
    "                \"k\": k,\n",
    "                \"weight_type\": weight_type,\n",
    "            }, \n",
    "            **scores\n",
    "        })\n",
    "\n",
    "print(\"Creating DataFrame...\")\n",
    "df = pd.DataFrame(rows, columns=[\"k\", \"weight_type\", \"accuracy\", \"recall\", \"precision\", \"f1\"])\n",
    "\n",
    "print(\"Finished!\")"
   ]
  },
  {
   "cell_type": "code",
   "execution_count": 3,
   "metadata": {},
   "outputs": [
    {
     "name": "stderr",
     "output_type": "stream",
     "text": [
      "futures: 100%|██████████| 6/6 [00:00<00:00, 503.87it/s]\n",
      "completed futures: 0it [00:00, ?it/s]"
     ]
    },
    {
     "name": "stdout",
     "output_type": "stream",
     "text": [
      "k: 1, weight: uniform start\n",
      "k: 2, weight: uniform start\n",
      "k: 4, weight: uniform start\n",
      "k: 4, weight: uniform end\n",
      "k: 4, weight: distance_pow start\n",
      "k: 2, weight: uniform end\n",
      "k: 2, weight: distance_pow start\n",
      "k: 1, weight: uniform end\n",
      "k: 1, weight: distance_pow start\n"
     ]
    },
    {
     "name": "stderr",
     "output_type": "stream",
     "text": [
      "completed futures: 1it [1:40:09, 6009.47s/it]"
     ]
    },
    {
     "name": "stdout",
     "output_type": "stream",
     "text": [
      "k: 4, weight: distance_pow end\n",
      "k: 6, weight: uniform start\n"
     ]
    },
    {
     "name": "stderr",
     "output_type": "stream",
     "text": [
      "completed futures: 2it [1:52:52, 4435.48s/it]"
     ]
    },
    {
     "name": "stdout",
     "output_type": "stream",
     "text": [
      "k: 2, weight: distance_pow end\n",
      "k: 8, weight: uniform start\n"
     ]
    },
    {
     "name": "stderr",
     "output_type": "stream",
     "text": [
      "completed futures: 3it [1:56:02, 3161.77s/it]"
     ]
    },
    {
     "name": "stdout",
     "output_type": "stream",
     "text": [
      "k: 1, weight: distance_pow end\n",
      "k: 10, weight: uniform start\n",
      "k: 6, weight: uniform end\n",
      "k: 6, weight: distance_pow start\n",
      "k: 8, weight: uniform end\n",
      "k: 8, weight: distance_pow start\n",
      "k: 10, weight: uniform end\n",
      "k: 10, weight: distance_pow start\n"
     ]
    },
    {
     "name": "stderr",
     "output_type": "stream",
     "text": [
      "completed futures: 4it [3:35:13, 3998.71s/it]"
     ]
    },
    {
     "name": "stdout",
     "output_type": "stream",
     "text": [
      "k: 6, weight: distance_pow end\n",
      "k: 8, weight: distance_pow end\n"
     ]
    },
    {
     "name": "stderr",
     "output_type": "stream",
     "text": [
      "completed futures: 6it [3:47:54, 2279.00s/it]"
     ]
    },
    {
     "name": "stdout",
     "output_type": "stream",
     "text": [
      "k: 10, weight: distance_pow end\n",
      "Creating DF\n",
      "Finished!\n"
     ]
    },
    {
     "name": "stderr",
     "output_type": "stream",
     "text": [
      "\n"
     ]
    }
   ],
   "source": [
    "# Concurrent\n",
    "import metnum\n",
    "import pandas as pd\n",
    "\n",
    "from scoring import metrics\n",
    "from scoring import cross_validation as cv\n",
    "from tqdm import tqdm\n",
    "import concurrent.futures\n",
    "\n",
    "# Scorings a calcular\n",
    "scoring_fns = {\n",
    "    \"accuracy\":  metrics.accuracy_score,\n",
    "    \"recall\":    metrics.recall_score,\n",
    "    \"precision\": metrics.precision_score,\n",
    "    \"f1\":        metrics.f1_score,\n",
    "}\n",
    "\n",
    "# Cantidad de folds\n",
    "K_FOLD = 6\n",
    "\n",
    "# ks de kNN a probar\n",
    "#ks = [1, 2, 4, 6, 8, 10, 20, 30, 40, 60, 80, 100]#, 150, 200, 250, 300, 400, 500, 600, 800, 1000]\n",
    "ks = [1, 2, 4, 6, 8, 10]\n",
    "\n",
    "def run_classifier(k: int):\n",
    "    clf = metnum.KNNClassifier(k)\n",
    "    clf_rows = []\n",
    "    for weight_type in [\"uniform\", \"distance_pow\"]:\n",
    "        print(\"k: {}, weight: {} start\".format(k, weight_type))\n",
    "        scores = cv.cross_validate_fns(clf, X, y, scoring_fns, K_FOLD, weights=weight_type)\n",
    "\n",
    "        # scores es un dict con las keys de scoring_fns, que son las\n",
    "        # mismas que las columnas del dataframe.\n",
    "        clf_rows.append({\n",
    "            **{\n",
    "                \"k\": k,\n",
    "                \"weight_type\": weight_type,\n",
    "            }, \n",
    "            **scores\n",
    "        })\n",
    "        print(\"k: {}, weight: {} end\".format(k, weight_type))\n",
    "    \n",
    "    return clf_rows\n",
    "\n",
    "# Ejemplo de ThreadPoolExecutor sacado de:\n",
    "# https://docs.python.org/3/library/concurrent.futures.html#threadpoolexecutor-example\n",
    "rows = []\n",
    "with concurrent.futures.ThreadPoolExecutor(max_workers=3) as executor:\n",
    "    futures = [executor.submit(run_classifier, k) for k in tqdm(ks, \"futures\")]\n",
    "    for future in tqdm(concurrent.futures.as_completed(futures), \"completed futures\"):\n",
    "        rows.extend(future.result())\n",
    "\n",
    "print(\"Creating DF\")\n",
    "df = pd.DataFrame(rows, columns=[\"k\", \"weight_type\", \"accuracy\", \"recall\", \"precision\", \"f1\"])\n",
    "\n",
    "print(\"Finished!\")"
   ]
  },
  {
   "cell_type": "code",
   "execution_count": 5,
   "metadata": {},
   "outputs": [
    {
     "data": {
      "text/html": [
       "<div>\n",
       "<style scoped>\n",
       "    .dataframe tbody tr th:only-of-type {\n",
       "        vertical-align: middle;\n",
       "    }\n",
       "\n",
       "    .dataframe tbody tr th {\n",
       "        vertical-align: top;\n",
       "    }\n",
       "\n",
       "    .dataframe thead th {\n",
       "        text-align: right;\n",
       "    }\n",
       "</style>\n",
       "<table border=\"1\" class=\"dataframe\">\n",
       "  <thead>\n",
       "    <tr style=\"text-align: right;\">\n",
       "      <th></th>\n",
       "      <th>k</th>\n",
       "      <th>weight_type</th>\n",
       "      <th>accuracy</th>\n",
       "      <th>recall</th>\n",
       "      <th>precision</th>\n",
       "      <th>f1</th>\n",
       "    </tr>\n",
       "  </thead>\n",
       "  <tbody>\n",
       "    <tr>\n",
       "      <th>1</th>\n",
       "      <td>4</td>\n",
       "      <td>distance_pow</td>\n",
       "      <td>0.970667</td>\n",
       "      <td>0.970250</td>\n",
       "      <td>0.971025</td>\n",
       "      <td>0.970499</td>\n",
       "    </tr>\n",
       "    <tr>\n",
       "      <th>7</th>\n",
       "      <td>6</td>\n",
       "      <td>distance_pow</td>\n",
       "      <td>0.970119</td>\n",
       "      <td>0.969655</td>\n",
       "      <td>0.970618</td>\n",
       "      <td>0.969976</td>\n",
       "    </tr>\n",
       "    <tr>\n",
       "      <th>9</th>\n",
       "      <td>8</td>\n",
       "      <td>distance_pow</td>\n",
       "      <td>0.969738</td>\n",
       "      <td>0.969259</td>\n",
       "      <td>0.970330</td>\n",
       "      <td>0.969611</td>\n",
       "    </tr>\n",
       "    <tr>\n",
       "      <th>11</th>\n",
       "      <td>10</td>\n",
       "      <td>distance_pow</td>\n",
       "      <td>0.969095</td>\n",
       "      <td>0.968645</td>\n",
       "      <td>0.969802</td>\n",
       "      <td>0.969018</td>\n",
       "    </tr>\n",
       "    <tr>\n",
       "      <th>3</th>\n",
       "      <td>2</td>\n",
       "      <td>distance_pow</td>\n",
       "      <td>0.966881</td>\n",
       "      <td>0.966425</td>\n",
       "      <td>0.967112</td>\n",
       "      <td>0.966641</td>\n",
       "    </tr>\n",
       "    <tr>\n",
       "      <th>4</th>\n",
       "      <td>1</td>\n",
       "      <td>uniform</td>\n",
       "      <td>0.966881</td>\n",
       "      <td>0.966425</td>\n",
       "      <td>0.967112</td>\n",
       "      <td>0.966641</td>\n",
       "    </tr>\n",
       "    <tr>\n",
       "      <th>5</th>\n",
       "      <td>1</td>\n",
       "      <td>distance_pow</td>\n",
       "      <td>0.966881</td>\n",
       "      <td>0.966425</td>\n",
       "      <td>0.967112</td>\n",
       "      <td>0.966641</td>\n",
       "    </tr>\n",
       "    <tr>\n",
       "      <th>0</th>\n",
       "      <td>4</td>\n",
       "      <td>uniform</td>\n",
       "      <td>0.965929</td>\n",
       "      <td>0.965355</td>\n",
       "      <td>0.966506</td>\n",
       "      <td>0.965686</td>\n",
       "    </tr>\n",
       "    <tr>\n",
       "      <th>6</th>\n",
       "      <td>6</td>\n",
       "      <td>uniform</td>\n",
       "      <td>0.965452</td>\n",
       "      <td>0.964868</td>\n",
       "      <td>0.966241</td>\n",
       "      <td>0.965285</td>\n",
       "    </tr>\n",
       "    <tr>\n",
       "      <th>8</th>\n",
       "      <td>8</td>\n",
       "      <td>uniform</td>\n",
       "      <td>0.964595</td>\n",
       "      <td>0.964026</td>\n",
       "      <td>0.965479</td>\n",
       "      <td>0.964468</td>\n",
       "    </tr>\n",
       "    <tr>\n",
       "      <th>10</th>\n",
       "      <td>10</td>\n",
       "      <td>uniform</td>\n",
       "      <td>0.963071</td>\n",
       "      <td>0.962509</td>\n",
       "      <td>0.964137</td>\n",
       "      <td>0.962993</td>\n",
       "    </tr>\n",
       "    <tr>\n",
       "      <th>2</th>\n",
       "      <td>2</td>\n",
       "      <td>uniform</td>\n",
       "      <td>0.960762</td>\n",
       "      <td>0.960027</td>\n",
       "      <td>0.961607</td>\n",
       "      <td>0.960323</td>\n",
       "    </tr>\n",
       "  </tbody>\n",
       "</table>\n",
       "</div>"
      ],
      "text/plain": [
       "     k   weight_type  accuracy    recall  precision        f1\n",
       "1    4  distance_pow  0.970667  0.970250   0.971025  0.970499\n",
       "7    6  distance_pow  0.970119  0.969655   0.970618  0.969976\n",
       "9    8  distance_pow  0.969738  0.969259   0.970330  0.969611\n",
       "11  10  distance_pow  0.969095  0.968645   0.969802  0.969018\n",
       "3    2  distance_pow  0.966881  0.966425   0.967112  0.966641\n",
       "4    1       uniform  0.966881  0.966425   0.967112  0.966641\n",
       "5    1  distance_pow  0.966881  0.966425   0.967112  0.966641\n",
       "0    4       uniform  0.965929  0.965355   0.966506  0.965686\n",
       "6    6       uniform  0.965452  0.964868   0.966241  0.965285\n",
       "8    8       uniform  0.964595  0.964026   0.965479  0.964468\n",
       "10  10       uniform  0.963071  0.962509   0.964137  0.962993\n",
       "2    2       uniform  0.960762  0.960027   0.961607  0.960323"
      ]
     },
     "execution_count": 5,
     "metadata": {},
     "output_type": "execute_result"
    }
   ],
   "source": [
    "df.sort_values(\"accuracy\", ascending=False)"
   ]
  },
  {
   "cell_type": "code",
   "execution_count": 9,
   "metadata": {},
   "outputs": [
    {
     "data": {
      "text/plain": [
       "(0.945, 0.98)"
      ]
     },
     "execution_count": 9,
     "metadata": {},
     "output_type": "execute_result"
    },
    {
     "data": {
      "image/png": "[encoded data removed]",
      "text/plain": [
       "<Figure size 432x288 with 1 Axes>"
      ]
     },
     "metadata": {},
     "output_type": "display_data"
    }
   ],
   "source": [
    "import seaborn as sns\n",
    "sns.set(style=\"whitegrid\")\n",
    "plot = sns.scatterplot(\n",
    "    data=df, x=\"k\", y=\"accuracy\", \n",
    "    hue=\"weight_type\",\n",
    "    legend=\"full\",\n",
    ")\n",
    "plot.set_ylim(0.945, 0.98)"
   ]
  },
  {
   "cell_type": "code",
   "execution_count": 4,
   "metadata": {},
   "outputs": [],
   "source": [
    "df.to_csv(\"K_6_knn_weights_per_k_concurrent.csv\", index=False)"
   ]
  },
  {
   "cell_type": "code",
   "execution_count": null,
   "metadata": {},
   "outputs": [],
   "source": [
    "## concluimos que distance_pow es el mejor\n",
    "## TODO: graficar cosas"
   ]
  }
 ],
 "metadata": {
  "kernelspec": {
   "display_name": "Python 3",
   "language": "python",
   "name": "python3"
  },
  "language_info": {
   "codemirror_mode": {
    "name": "ipython",
    "version": 3
   },
   "file_extension": ".py",
   "mimetype": "text/x-python",
   "name": "python",
   "nbconvert_exporter": "python",
   "pygments_lexer": "ipython3",
   "version": "3.6.9"
  }
 },
 "nbformat": 4,
 "nbformat_minor": 2
}
