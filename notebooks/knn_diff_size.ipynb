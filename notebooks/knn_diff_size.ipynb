{
 "cells": [
  {
   "cell_type": "markdown",
   "metadata": {},
   "source": [
    "# kNN - Experimento variando K y tamaño de imagenes\n"
   ]
  },
  {
   "cell_type": "markdown",
   "metadata": {},
   "source": [
    "Definir los path al ejecutable de python 3.6 y sus librerías,\n",
    "de acuerdo al virtual env que estén corriendo."
   ]
  },
  {
   "cell_type": "code",
   "execution_count": null,
   "metadata": {},
   "outputs": [],
   "source": [
    "!cd .. && ./build.sh"
   ]
  },
  {
   "cell_type": "markdown",
   "metadata": {},
   "source": [
    "## Explorando los datos"
   ]
  },
  {
   "cell_type": "code",
   "execution_count": 5,
   "metadata": {},
   "outputs": [
    {
     "name": "stdout",
     "output_type": "stream",
     "text": [
      "The autoreload extension is already loaded. To reload it, use:\n",
      "  %reload_ext autoreload\n",
      "<class 'pandas.core.frame.DataFrame'>\n",
      "RangeIndex: 42000 entries, 0 to 41999\n",
      "Columns: 785 entries, label to pixel783\n",
      "dtypes: int64(785)\n",
      "memory usage: 251.5 MB\n"
     ]
    }
   ],
   "source": [
    "%load_ext autoreload\n",
    "%autoreload 2\n",
    "import pandas as pd\n",
    "\n",
    "df_orig = pd.read_csv(\"../data/train.csv\")\n",
    "df_orig.info()"
   ]
  },
  {
   "cell_type": "markdown",
   "metadata": {},
   "source": [
    "### Reducir el dataset\n",
    "\n",
    "Ya que el dataset es grande, me quedo con una porción de éste\n",
    "\n",
    "**<font color=red>ESTO ES SOLO PARA HACER PRUEBAS. CUANDO REPORTEN LOS RESULTADOS, USAR DATASET COMPLETO</font>**"
   ]
  },
  {
   "cell_type": "code",
   "execution_count": 6,
   "metadata": {},
   "outputs": [],
   "source": [
    "df_orig.sample(frac=1, random_state=2020)\n",
    "\n",
    "def slice(n):\n",
    "    df_train = df_orig.copy()[:n]\n",
    "    X = df_train[df_train.columns[1:]].values\n",
    "    y = df_train[\"label\"].values.reshape(-1, 1)\n",
    "    \n",
    "    return X, y\n"
   ]
  },
  {
   "cell_type": "markdown",
   "metadata": {},
   "source": [
    "### Experimento"
   ]
  },
  {
   "cell_type": "code",
   "execution_count": 31,
   "metadata": {},
   "outputs": [
    {
     "name": "stderr",
     "output_type": "stream",
     "text": [
      "Ks: 100%|██████████| 6/6 [06:46<00:00, 67.81s/it]"
     ]
    },
    {
     "name": "stdout",
     "output_type": "stream",
     "text": [
      "Creating DataFrame...\n",
      "Finished!\n"
     ]
    },
    {
     "name": "stderr",
     "output_type": "stream",
     "text": [
      "\n"
     ]
    }
   ],
   "source": [
    "import metnum\n",
    "import pandas as pd\n",
    "\n",
    "from scoring import metrics\n",
    "from scoring import cross_validation as cv\n",
    "from tqdm import tqdm\n",
    "\n",
    "scoring_fns = {\n",
    "    \"accuracy\":  metrics.accuracy_score,\n",
    "    \"recall\":    metrics.recall_score,\n",
    "    \"precision\": metrics.precision_score,\n",
    "    \"f1\":        metrics.f1_score,\n",
    "}\n",
    "\n",
    "K_FOLD_VALUES = [2, 4, 6, 8, 10, 20]\n",
    "X_SIZES = [500, 1000, 2500, 5000, 8000, 10000, 25000, 42000]\n",
    "LABEL = \"kNN_distance_pow\"\n",
    "#LABEL = \"kNN_uniform+PCA\"\n",
    "#LABEL = \"kNN_distance_pow+PCA\"\n",
    "\n",
    "rows = []\n",
    "clf = metnum.KNNClassifier(4, \"distance_pow\")\n",
    "for K in tqdm(K_FOLD_VALUES, \"Ks\"):\n",
    "    for size in X_SIZES:\n",
    "        X, y = slice(size)\n",
    "        scores = cv.cross_validate_fns(clf, X, y, scoring_fns, K)\n",
    "\n",
    "        # scores es un dict con las keys de scoring_fns, que son las\n",
    "        # mismas que las columnas del dataframe.\n",
    "        rows.append({\n",
    "            **{\n",
    "                \"label\": LABEL,\n",
    "                \"K\": K,\n",
    "                \"sample_size\": size,\n",
    "            }, \n",
    "            **scores\n",
    "        })\n",
    "\n",
    "print(\"Creating DataFrame...\")\n",
    "df = pd.DataFrame(rows, columns=[\"label\", \"K\", \"sample_size\", \"accuracy\", \"recall\", \"precision\", \"f1\"])\n",
    "\n",
    "print(\"Finished!\")"
   ]
  },
  {
   "cell_type": "code",
   "execution_count": 16,
   "metadata": {},
   "outputs": [
    {
     "data": {
      "text/html": [
       "<div>\n",
       "<style scoped>\n",
       "    .dataframe tbody tr th:only-of-type {\n",
       "        vertical-align: middle;\n",
       "    }\n",
       "\n",
       "    .dataframe tbody tr th {\n",
       "        vertical-align: top;\n",
       "    }\n",
       "\n",
       "    .dataframe thead th {\n",
       "        text-align: right;\n",
       "    }\n",
       "</style>\n",
       "<table border=\"1\" class=\"dataframe\">\n",
       "  <thead>\n",
       "    <tr style=\"text-align: right;\">\n",
       "      <th></th>\n",
       "      <th>label</th>\n",
       "      <th>K</th>\n",
       "      <th>sample_size</th>\n",
       "      <th>accuracy</th>\n",
       "      <th>recall</th>\n",
       "      <th>precision</th>\n",
       "      <th>f1</th>\n",
       "    </tr>\n",
       "  </thead>\n",
       "  <tbody>\n",
       "    <tr>\n",
       "      <th>7</th>\n",
       "      <td>kNN_distance_pow</td>\n",
       "      <td>8</td>\n",
       "      <td>5000</td>\n",
       "      <td>0.936200</td>\n",
       "      <td>0.935794</td>\n",
       "      <td>0.936637</td>\n",
       "      <td>0.934993</td>\n",
       "    </tr>\n",
       "    <tr>\n",
       "      <th>9</th>\n",
       "      <td>kNN_distance_pow</td>\n",
       "      <td>10</td>\n",
       "      <td>5000</td>\n",
       "      <td>0.936000</td>\n",
       "      <td>0.934970</td>\n",
       "      <td>0.936635</td>\n",
       "      <td>0.934606</td>\n",
       "    </tr>\n",
       "    <tr>\n",
       "      <th>5</th>\n",
       "      <td>kNN_distance_pow</td>\n",
       "      <td>6</td>\n",
       "      <td>5000</td>\n",
       "      <td>0.935974</td>\n",
       "      <td>0.934858</td>\n",
       "      <td>0.936509</td>\n",
       "      <td>0.934605</td>\n",
       "    </tr>\n",
       "    <tr>\n",
       "      <th>3</th>\n",
       "      <td>kNN_distance_pow</td>\n",
       "      <td>4</td>\n",
       "      <td>5000</td>\n",
       "      <td>0.931000</td>\n",
       "      <td>0.930022</td>\n",
       "      <td>0.931707</td>\n",
       "      <td>0.929763</td>\n",
       "    </tr>\n",
       "    <tr>\n",
       "      <th>1</th>\n",
       "      <td>kNN_distance_pow</td>\n",
       "      <td>2</td>\n",
       "      <td>5000</td>\n",
       "      <td>0.919800</td>\n",
       "      <td>0.918631</td>\n",
       "      <td>0.921082</td>\n",
       "      <td>0.918586</td>\n",
       "    </tr>\n",
       "    <tr>\n",
       "      <th>6</th>\n",
       "      <td>kNN_distance_pow</td>\n",
       "      <td>8</td>\n",
       "      <td>1000</td>\n",
       "      <td>0.869000</td>\n",
       "      <td>0.868079</td>\n",
       "      <td>0.870696</td>\n",
       "      <td>0.863363</td>\n",
       "    </tr>\n",
       "    <tr>\n",
       "      <th>4</th>\n",
       "      <td>kNN_distance_pow</td>\n",
       "      <td>6</td>\n",
       "      <td>1000</td>\n",
       "      <td>0.868474</td>\n",
       "      <td>0.863698</td>\n",
       "      <td>0.870586</td>\n",
       "      <td>0.860366</td>\n",
       "    </tr>\n",
       "    <tr>\n",
       "      <th>8</th>\n",
       "      <td>kNN_distance_pow</td>\n",
       "      <td>10</td>\n",
       "      <td>1000</td>\n",
       "      <td>0.868000</td>\n",
       "      <td>0.865728</td>\n",
       "      <td>0.871306</td>\n",
       "      <td>0.860721</td>\n",
       "    </tr>\n",
       "    <tr>\n",
       "      <th>2</th>\n",
       "      <td>kNN_distance_pow</td>\n",
       "      <td>4</td>\n",
       "      <td>1000</td>\n",
       "      <td>0.861000</td>\n",
       "      <td>0.858383</td>\n",
       "      <td>0.864633</td>\n",
       "      <td>0.856392</td>\n",
       "    </tr>\n",
       "    <tr>\n",
       "      <th>0</th>\n",
       "      <td>kNN_distance_pow</td>\n",
       "      <td>2</td>\n",
       "      <td>1000</td>\n",
       "      <td>0.844000</td>\n",
       "      <td>0.843112</td>\n",
       "      <td>0.848767</td>\n",
       "      <td>0.840253</td>\n",
       "    </tr>\n",
       "  </tbody>\n",
       "</table>\n",
       "</div>"
      ],
      "text/plain": [
       "              label   K  sample_size  accuracy    recall  precision        f1\n",
       "7  kNN_distance_pow   8         5000  0.936200  0.935794   0.936637  0.934993\n",
       "9  kNN_distance_pow  10         5000  0.936000  0.934970   0.936635  0.934606\n",
       "5  kNN_distance_pow   6         5000  0.935974  0.934858   0.936509  0.934605\n",
       "3  kNN_distance_pow   4         5000  0.931000  0.930022   0.931707  0.929763\n",
       "1  kNN_distance_pow   2         5000  0.919800  0.918631   0.921082  0.918586\n",
       "6  kNN_distance_pow   8         1000  0.869000  0.868079   0.870696  0.863363\n",
       "4  kNN_distance_pow   6         1000  0.868474  0.863698   0.870586  0.860366\n",
       "8  kNN_distance_pow  10         1000  0.868000  0.865728   0.871306  0.860721\n",
       "2  kNN_distance_pow   4         1000  0.861000  0.858383   0.864633  0.856392\n",
       "0  kNN_distance_pow   2         1000  0.844000  0.843112   0.848767  0.840253"
      ]
     },
     "execution_count": 16,
     "metadata": {},
     "output_type": "execute_result"
    }
   ],
   "source": [
    "df.sort_values(\"accuracy\", ascending=False)"
   ]
  },
  {
   "cell_type": "code",
   "execution_count": 9,
   "metadata": {},
   "outputs": [
    {
     "data": {
      "text/plain": [
       "(0.945, 0.98)"
      ]
     },
     "execution_count": 9,
     "metadata": {},
     "output_type": "execute_result"
    },
    {
     "data": {
      "image/png": "[encoded data removed]",
      "text/plain": [
       "<Figure size 432x288 with 1 Axes>"
      ]
     },
     "metadata": {},
     "output_type": "display_data"
    }
   ],
   "source": [
    "import seaborn as sns\n",
    "sns.set(style=\"whitegrid\")\n",
    "plot = sns.scatterplot(\n",
    "    data=df, x=\"k\", y=\"accuracy\", \n",
    "    hue=\"weight_type\",\n",
    "    legend=\"full\",\n",
    ")\n",
    "plot.set_ylim(0.945, 0.98)"
   ]
  },
  {
   "cell_type": "code",
   "execution_count": 4,
   "metadata": {},
   "outputs": [],
   "source": [
    "df.to_csv(\"data/knn/variaciones/knn_distance_pow.csv\", index=False)"
   ]
  },
  {
   "cell_type": "code",
   "execution_count": 32,
   "metadata": {},
   "outputs": [
    {
     "data": {
      "image/png": "[encoded data removed]",
      "text/plain": [
       "<Figure size 432x288 with 2 Axes>"
      ]
     },
     "metadata": {
      "needs_background": "light"
     },
     "output_type": "display_data"
    }
   ],
   "source": [
    "import seaborn as sns\n",
    "df_pivot = df.pivot(\"K\", \"sample_size\", \"accuracy\")\n",
    "ax = sns.heatmap(data=df_pivot, annot=True, fmt=\".3f\")\n",
    "ax.invert_yaxis()"
   ]
  },
  {
   "cell_type": "code",
   "execution_count": null,
   "metadata": {},
   "outputs": [],
   "source": [
    "## concluimos que distance_pow es el mejor\n",
    "## TODO: graficar cosas"
   ]
  }
 ],
 "metadata": {
  "kernelspec": {
   "display_name": "Python 3",
   "language": "python",
   "name": "python3"
  },
  "language_info": {
   "codemirror_mode": {
    "name": "ipython",
    "version": 3
   },
   "file_extension": ".py",
   "mimetype": "text/x-python",
   "name": "python",
   "nbconvert_exporter": "python",
   "pygments_lexer": "ipython3",
   "version": "3.6.9"
  }
 },
 "nbformat": 4,
 "nbformat_minor": 2
}
