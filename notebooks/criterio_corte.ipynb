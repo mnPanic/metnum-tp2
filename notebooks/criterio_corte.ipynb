{
 "cells": [
  {
   "cell_type": "code",
   "execution_count": 8,
   "metadata": {},
   "outputs": [],
   "source": [
    "%config IPCompleter.greedy=True"
   ]
  },
  {
   "cell_type": "markdown",
   "metadata": {},
   "source": [
    "# Reconocimiento de dígitos con KNN"
   ]
  },
  {
   "cell_type": "markdown",
   "metadata": {},
   "source": [
    "Definir los path al ejecutable de python 3.6 y sus librerías,\n",
    "de acuerdo al virtual env que estén corriendo."
   ]
  },
  {
   "cell_type": "code",
   "execution_count": 46,
   "metadata": {},
   "outputs": [
    {
     "name": "stdout",
     "output_type": "stream",
     "text": [
      "mkdir: cannot create directory ‘build’: File exists\n",
      "-- The C compiler identification is GNU 7.5.0\n",
      "-- The CXX compiler identification is GNU 7.5.0\n",
      "-- Check for working C compiler: /usr/bin/cc\n",
      "-- Check for working C compiler: /usr/bin/cc -- works\n",
      "-- Detecting C compiler ABI info\n",
      "-- Detecting C compiler ABI info - done\n",
      "-- Detecting C compile features\n",
      "-- Detecting C compile features - done\n",
      "-- Check for working CXX compiler: /usr/bin/c++\n",
      "-- Check for working CXX compiler: /usr/bin/c++ -- works\n",
      "-- Detecting CXX compiler ABI info\n",
      "-- Detecting CXX compiler ABI info - done\n",
      "-- Detecting CXX compile features\n",
      "-- Detecting CXX compile features - done\n",
      "Release mode\n",
      "-- Found PythonInterp: /usr/bin/python (found version \"3.6.9\") \n",
      "-- Found PythonLibs: /usr/lib/x86_64-linux-gnu/libpython3.6m.so\n",
      "-- pybind11 v2.2.4\n",
      "-- Performing Test HAS_FLTO\n",
      "-- Performing Test HAS_FLTO - Success\n",
      "-- LTO enabled\n",
      "CMAKE_INSTALL_PREFIX=/home/zarthaxx/Desktop/metnum-tp2\n",
      "CMake Warning (dev) at CMakeLists.txt:58 (add_executable):\n",
      "  Policy CMP0037 is not set: Target names should not be reserved and should\n",
      "  match a validity pattern.  Run \"cmake --help-policy CMP0037\" for policy\n",
      "  details.  Use the cmake_policy command to set the policy and suppress this\n",
      "  warning.\n",
      "\n",
      "  The target name \"test\" is reserved or not valid for certain CMake features,\n",
      "  such as generator expressions, and may result in undefined behavior.\n",
      "This warning is for project developers.  Use -Wno-dev to suppress it.\n",
      "\n",
      "-- Configuring done\n",
      "-- Generating done\n",
      "-- Build files have been written to: /home/zarthaxx/Desktop/metnum-tp2/build\n",
      "\u001b[35m\u001b[1mScanning dependencies of target test\u001b[0m\n",
      "[ 10%] \u001b[32mBuilding CXX object CMakeFiles/test.dir/src/knn.cpp.o\u001b[0m\n",
      "[ 20%] \u001b[32mBuilding CXX object CMakeFiles/test.dir/src/pca.cpp.o\u001b[0m\n",
      "[ 30%] \u001b[32mBuilding CXX object CMakeFiles/test.dir/src/eigen.cpp.o\u001b[0m\n",
      "\u001b[01m\u001b[K/home/zarthaxx/Desktop/metnum-tp2/src/eigen.cpp:\u001b[m\u001b[K In function ‘\u001b[01m\u001b[Kstd::pair<double, Eigen::Matrix<double, -1, 1> > power_iteration(const Matrix&, unsigned int, double)\u001b[m\u001b[K’:\n",
      "\u001b[01m\u001b[K/home/zarthaxx/Desktop/metnum-tp2/src/eigen.cpp:26:21:\u001b[m\u001b[K \u001b[01;31m\u001b[Kerror: \u001b[m\u001b[K‘\u001b[01m\u001b[Ka\u001b[m\u001b[K’ was not declared in this scope\n",
      "      (1-(last_b*b)/(\u001b[01;31m\u001b[Ka\u001b[m\u001b[K.norm()*b.norm()))) > eps);\n",
      "                     \u001b[01;31m\u001b[K^\u001b[m\u001b[K\n",
      "\u001b[01m\u001b[K/home/zarthaxx/Desktop/metnum-tp2/src/eigen.cpp:26:42:\u001b[m\u001b[K \u001b[01;31m\u001b[Kerror: \u001b[m\u001b[Kexpected ‘\u001b[01m\u001b[K;\u001b[m\u001b[K’ before ‘\u001b[01m\u001b[K>\u001b[m\u001b[K’ token\n",
      "      (1-(last_b*b)/(a.norm()*b.norm()))) \u001b[01;31m\u001b[K>\u001b[m\u001b[K eps);\n",
      "                                          \u001b[01;31m\u001b[K^\u001b[m\u001b[K\n",
      "\u001b[01m\u001b[K/home/zarthaxx/Desktop/metnum-tp2/src/eigen.cpp:26:42:\u001b[m\u001b[K \u001b[01;31m\u001b[Kerror: \u001b[m\u001b[Kexpected primary-expression before ‘\u001b[01m\u001b[K>\u001b[m\u001b[K’ token\n",
      "CMakeFiles/test.dir/build.make:110: recipe for target 'CMakeFiles/test.dir/src/eigen.cpp.o' failed\n",
      "make[2]: *** [CMakeFiles/test.dir/src/eigen.cpp.o] Error 1\n",
      "CMakeFiles/Makefile2:67: recipe for target 'CMakeFiles/test.dir/all' failed\n",
      "make[1]: *** [CMakeFiles/test.dir/all] Error 2\n",
      "Makefile:129: recipe for target 'all' failed\n",
      "make: *** [all] Error 2\n"
     ]
    }
   ],
   "source": [
    "!cd .. && mkdir build\n",
    "!cd ../build/ && rm -rf *\n",
    "!cd ../build && cmake \\\n",
    "  -DPYTHON_EXECUTABLE=\"$(which python)\" \\\n",
    "  -DCMAKE_BUILD_TYPE=Release ..\n",
    "!cd ../build && make install"
   ]
  },
  {
   "cell_type": "code",
   "execution_count": 47,
   "metadata": {},
   "outputs": [
    {
     "name": "stdout",
     "output_type": "stream",
     "text": [
      "/home/zarthaxx/Desktop/metnum-tp2/notebooks\n",
      "Python 3.6.9\n"
     ]
    }
   ],
   "source": [
    "# Verifico la correcta instalación. Si no falla el import está OK\n",
    "!pwd\n",
    "!python --version\n",
    "import metnum\n"
   ]
  },
  {
   "cell_type": "code",
   "execution_count": 52,
   "metadata": {},
   "outputs": [],
   "source": [
    "import pandas as pd\n",
    "\n",
    "df = pd.DataFrame({'epsilon': pd.Series([], dtype='float'),\n",
    "                   'time': pd.Series([], dtype='float'),\n",
    "                   'error': pd.Series([], dtype='float')})"
   ]
  },
  {
   "cell_type": "code",
   "execution_count": 53,
   "metadata": {},
   "outputs": [
    {
     "name": "stdout",
     "output_type": "stream",
     "text": [
      "Diagonal\n",
      " [784 783 782 781 780 779 778 777 776 775 774 773 772 771 770 769 768 767\n",
      " 766 765 764 763 762 761 760 759 758 757 756 755]\n",
      "eps=1 => [time= 2.8947659070 err= 0.4219098898 ]\n",
      "[ 652.13199882  546.97288983  508.81683758  599.65910272  563.4187916\n",
      "  587.25448562  627.13546084  613.386422    647.55510496  551.67202728\n",
      "  636.25953994  598.529235    575.46488222  432.50730131 -841.57368968\n",
      "  364.2345446   355.41719383  545.27618519  528.54132767  673.48517549\n",
      "  603.48072663  621.57389043  552.71222405  485.21772746  409.95710222\n",
      " -877.65221239  392.10366244  341.72268825  507.64095488  571.97994838]\n",
      "eps=0.1 => [time= 0.3279585350 err= 0.0768510513 ]\n",
      "[727.85510207 708.6177757  704.24179778 703.12657784 715.19944801\n",
      " 703.0352708  710.53993828 703.25906021 710.497764   712.42403539\n",
      " 709.96845023 710.50137395 711.98669674 709.70634215 713.92295504\n",
      " 712.32645314 705.05652256 708.18223087 716.52903433 707.78560826\n",
      " 711.25141593 716.96131148 708.28632708 714.11473776 709.289101\n",
      " 702.4662874  715.27177459 712.24560439 705.38126965 708.25059271]\n",
      "eps=0.01 => [time= 1.2192460930 err= 0.0025358914 ]\n",
      "[777.58923144 775.62679256 773.93113291 774.77104886 775.07010151\n",
      " 772.52441679 775.11273619 772.50506071 770.08302667 773.19052357\n",
      " 772.63650913 774.49144094 768.89905003 769.27879332 769.68634357\n",
      " 770.56414628 767.39000035 765.06379079 766.46583044 764.34183467\n",
      " 766.60422283 762.15054055 762.44952108 759.92431229 756.85704463\n",
      " 760.29328542 756.7642523  759.87238833 756.33644609 755.20830868]\n",
      "eps=0.001 => [time= 17.0178272530 err= 0.0000476630 ]\n",
      "[783.79362261 782.57284426 782.07849739 780.31537119 780.59309818\n",
      " 779.15757663 777.42202584 777.53242618 775.55400585 775.62048041\n",
      " 773.41124724 773.40143423 771.58592765 771.3452489  770.13929755\n",
      " 768.69663524 768.55498994 766.5514287  765.40023737 765.3276958\n",
      " 764.59082555 763.2051956  761.719484   760.26946456 760.54788451\n",
      " 758.52103679 758.62842188 756.61331607 756.54022721 754.20550573]\n",
      "eps=0.0001 => [time= 29.2977021690 err= 0.0000002932 ]\n",
      "[783.99436843 782.99902467 782.00203551 780.99702148 780.00153674\n",
      " 779.00080521 777.99841131 777.00159289 775.99851831 775.00200518\n",
      " 773.99759598 773.00159188 771.99924434 771.00042734 770.00029933\n",
      " 768.9994522  768.0032881  766.99587532 765.99980344 765.00107178\n",
      " 764.00035527 763.00142265 761.99928043 760.9975795  760.00260114\n",
      " 758.99824844 758.0016529  756.99874111 756.00223693 754.99705991]\n",
      "eps=1e-05 => [time= 45.8988955180 err= 0.0000000023 ]\n",
      "[783.99993878 783.0000001  782.00000102 780.99999898 780.00000091\n",
      " 779.00000036 777.99999981 777.00000064 775.99999998 775.00000063\n",
      " 773.99999958 773.00000057 772.00000012 771.00000031 770.00000032\n",
      " 769.00000017 768.00000105 766.99999873 766.00000076 765.00000037\n",
      " 764.00000025 763.00000028 762.00000058 760.99999917 760.00000101\n",
      " 758.99999982 758.00000065 756.99999992 756.00000099 754.99999899]\n",
      "eps=1e-06 => [time= 53.5864623200 err= 0.0000000005 ]\n",
      "[783.99999939 782.99999706 782.00000295 780.9999613  780.00003741\n",
      " 779.00000116 777.99998233 777.00001772 775.99998631 775.00001387\n",
      " 773.99999116 773.00000832 771.99999171 771.00000674 770.0000017\n",
      " 768.99999523 768.00000519 766.99999707 765.9999734  765.00002197\n",
      " 764.00000751 763.00000012 762.         760.99996996 760.00002959\n",
      " 758.99996878 758.00003174 756.99999097 756.00000906 754.99998781]\n",
      "eps=1e-07 => [time= 51.7533396550 err= 0.0000000005 ]\n",
      "[783.99999962 782.99999683 782.0000031  780.99996117 780.00003739\n",
      " 779.00000116 777.99998233 777.00001772 775.99998631 775.00001427\n",
      " 773.99999079 773.0000083  771.99999171 771.00000674 770.0000017\n",
      " 768.99999523 768.00000574 766.99999655 765.99997336 765.00002196\n",
      " 764.00000751 763.00000065 761.99999972 760.99996974 760.00002956\n",
      " 758.99996878 758.00003174 756.99999097 756.00000949 754.99998742]\n",
      "eps=1e-08 => [time= 50.9831003960 err= 0.0000000005 ]\n",
      "[783.99999962 782.99999683 782.0000031  780.99996117 780.00003739\n",
      " 779.00000116 777.99998233 777.00001772 775.99998631 775.00001427\n",
      " 773.99999079 773.0000083  771.99999171 771.00000674 770.0000017\n",
      " 768.99999523 768.00000574 766.99999655 765.99997336 765.00002196\n",
      " 764.00000751 763.00000065 761.99999972 760.99996974 760.00002956\n",
      " 758.99996878 758.00003174 756.99999097 756.00000949 754.99998742]\n",
      "eps=1e-09 => [time= 53.5074818540 err= 0.0000000005 ]\n",
      "[783.99999962 782.99999683 782.0000031  780.99996117 780.00003739\n",
      " 779.00000116 777.99998233 777.00001772 775.99998631 775.00001427\n",
      " 773.99999079 773.0000083  771.99999171 771.00000674 770.0000017\n",
      " 768.99999523 768.00000574 766.99999655 765.99997336 765.00002196\n",
      " 764.00000751 763.00000065 761.99999972 760.99996974 760.00002956\n",
      " 758.99996878 758.00003174 756.99999097 756.00000949 754.99998742]\n"
     ]
    }
   ],
   "source": [
    "import numpy as np\n",
    "import time\n",
    "\n",
    "MATRIX_SZ = 28*28\n",
    "N = 30\n",
    "EPS = -1\n",
    "EPS_N = 10\n",
    "\n",
    "results = []\n",
    "epsilons = [10 ** -(EPS+i) for i in range(1,EPS_N+1)]\n",
    "\n",
    "diag = np.arange(MATRIX_SZ,0,step = -1)\n",
    "\n",
    "diag_matrix = np.diag(diag)\n",
    "\n",
    "diag_matrix\n",
    "\n",
    "print(\"Diagonal\\n\", diag[:N])\n",
    "for eps in epsilons:\n",
    "    \n",
    "    t = time.process_time()\n",
    "    vals, vecs = metnum.get_first_eigenvalues(diag_matrix, N, epsilon=eps)\n",
    "    elapsed_time = time.process_time() - t\n",
    "    error = 1-np.sum(np.divide(vals, diag[:N]))/N\n",
    "    #df.append({\"epsilon\": 1, \"time\": 2,\"error\": 3}, ignore_index=True)\n",
    "    df = df.append({\"epsilon\" : eps, \"time\": elapsed_time, \"error\": error}, ignore_index=True)\n",
    "    \n",
    "    print(f\"eps={eps} => [time=\",\"{:.10f}\".format(elapsed_time),\"err=\",\"{:.10f}\".format(error),\"]\")\n",
    "    print(vals)"
   ]
  },
  {
   "cell_type": "code",
   "execution_count": 54,
   "metadata": {},
   "outputs": [
    {
     "data": {
      "text/plain": [
       "[None, None]"
      ]
     },
     "execution_count": 54,
     "metadata": {},
     "output_type": "execute_result"
    },
    {
     "data": {
      "image/png": "[encoded data removed]",
      "text/plain": [
       "<Figure size 720x360 with 1 Axes>"
      ]
     },
     "metadata": {
      "needs_background": "light"
     },
     "output_type": "display_data"
    }
   ],
   "source": [
    "import matplotlib.pyplot as plt\n",
    "import seaborn as sns\n",
    "\n",
    "plt.figure(figsize=(10, 5))\n",
    "\n",
    "eps_time = sns.scatterplot(x=\"epsilon\", y=\"time\", data=df, marker=\"o\")\n",
    "eps_time.set(xscale=\"log\", yscale=\"linear\")"
   ]
  },
  {
   "cell_type": "code",
   "execution_count": 55,
   "metadata": {},
   "outputs": [
    {
     "data": {
      "text/plain": [
       "[None, None]"
      ]
     },
     "execution_count": 55,
     "metadata": {},
     "output_type": "execute_result"
    },
    {
     "data": {
      "image/png": "[encoded data removed]",
      "text/plain": [
       "<Figure size 720x360 with 1 Axes>"
      ]
     },
     "metadata": {
      "needs_background": "light"
     },
     "output_type": "display_data"
    }
   ],
   "source": [
    "\n",
    "plt.figure(figsize=(10, 5))\n",
    "\n",
    "eps_error = sns.lineplot(x=\"epsilon\", y=\"error\", data=df, marker=\"o\")\n",
    "eps_error.set(xscale=\"log\", yscale=\"linear\")\n"
   ]
  },
  {
   "cell_type": "code",
   "execution_count": null,
   "metadata": {},
   "outputs": [],
   "source": []
  }
 ],
 "metadata": {
  "kernelspec": {
   "display_name": "Python 3",
   "language": "python",
   "name": "python3"
  },
  "language_info": {
   "codemirror_mode": {
    "name": "ipython",
    "version": 3
   },
   "file_extension": ".py",
   "mimetype": "text/x-python",
   "name": "python",
   "nbconvert_exporter": "python",
   "pygments_lexer": "ipython3",
   "version": "3.6.9"
  }
 },
 "nbformat": 4,
 "nbformat_minor": 2
}
