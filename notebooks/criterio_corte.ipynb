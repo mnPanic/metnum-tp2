{
 "cells": [
  {
   "cell_type": "code",
   "execution_count": 8,
   "metadata": {},
   "outputs": [],
   "source": [
    "%config IPCompleter.greedy=True"
   ]
  },
  {
   "cell_type": "markdown",
   "metadata": {},
   "source": [
    "# Reconocimiento de dígitos con KNN"
   ]
  },
  {
   "cell_type": "markdown",
   "metadata": {},
   "source": [
    "Definir los path al ejecutable de python 3.6 y sus librerías,\n",
    "de acuerdo al virtual env que estén corriendo."
   ]
  },
  {
   "cell_type": "code",
   "execution_count": 16,
   "metadata": {},
   "outputs": [
    {
     "name": "stdout",
     "output_type": "stream",
     "text": [
      "mkdir: cannot create directory ‘build’: File exists\n",
      "-- The C compiler identification is GNU 7.5.0\n",
      "-- The CXX compiler identification is GNU 7.5.0\n",
      "-- Check for working C compiler: /usr/bin/cc\n",
      "-- Check for working C compiler: /usr/bin/cc -- works\n",
      "-- Detecting C compiler ABI info\n",
      "-- Detecting C compiler ABI info - done\n",
      "-- Detecting C compile features\n",
      "-- Detecting C compile features - done\n",
      "-- Check for working CXX compiler: /usr/bin/c++\n",
      "-- Check for working CXX compiler: /usr/bin/c++ -- works\n",
      "-- Detecting CXX compiler ABI info\n",
      "-- Detecting CXX compiler ABI info - done\n",
      "-- Detecting CXX compile features\n",
      "-- Detecting CXX compile features - done\n",
      "Release mode\n",
      "-- Found PythonInterp: /usr/bin/python (found version \"3.6.9\") \n",
      "-- Found PythonLibs: /usr/lib/x86_64-linux-gnu/libpython3.6m.so\n",
      "-- pybind11 v2.2.4\n",
      "-- Performing Test HAS_FLTO\n",
      "-- Performing Test HAS_FLTO - Success\n",
      "-- LTO enabled\n",
      "CMAKE_INSTALL_PREFIX=/home/zarthaxx/Desktop/metnum-tp2\n",
      "CMake Warning (dev) at CMakeLists.txt:58 (add_executable):\n",
      "  Policy CMP0037 is not set: Target names should not be reserved and should\n",
      "  match a validity pattern.  Run \"cmake --help-policy CMP0037\" for policy\n",
      "  details.  Use the cmake_policy command to set the policy and suppress this\n",
      "  warning.\n",
      "\n",
      "  The target name \"test\" is reserved or not valid for certain CMake features,\n",
      "  such as generator expressions, and may result in undefined behavior.\n",
      "This warning is for project developers.  Use -Wno-dev to suppress it.\n",
      "\n",
      "-- Configuring done\n",
      "-- Generating done\n",
      "-- Build files have been written to: /home/zarthaxx/Desktop/metnum-tp2/build\n",
      "\u001b[35m\u001b[1mScanning dependencies of target test\u001b[0m\n",
      "[ 10%] \u001b[32mBuilding CXX object CMakeFiles/test.dir/src/knn.cpp.o\u001b[0m\n",
      "\u001b[01m\u001b[K/home/zarthaxx/Desktop/metnum-tp2/src/knn.cpp:\u001b[m\u001b[K In member function ‘\u001b[01m\u001b[KVector KNNClassifier::predict(Matrix)\u001b[m\u001b[K’:\n",
      "\u001b[01m\u001b[K/home/zarthaxx/Desktop/metnum-tp2/src/knn.cpp:61:24:\u001b[m\u001b[K \u001b[01;35m\u001b[Kwarning: \u001b[m\u001b[Kunused variable ‘\u001b[01m\u001b[Kn\u001b[m\u001b[K’ [\u001b[01;35m\u001b[K-Wunused-variable\u001b[m\u001b[K]\n",
      "         for (neighbor& \u001b[01;35m\u001b[Kn\u001b[m\u001b[K : arr.k_nearest) {\n",
      "                        \u001b[01;35m\u001b[K^\u001b[m\u001b[K\n",
      "[ 20%] \u001b[32mBuilding CXX object CMakeFiles/test.dir/src/pca.cpp.o\u001b[0m\n",
      "[ 30%] \u001b[32mBuilding CXX object CMakeFiles/test.dir/src/eigen.cpp.o\u001b[0m\n",
      "[ 40%] \u001b[32mBuilding CXX object CMakeFiles/test.dir/src/UnitTests.cpp.o\u001b[0m\n",
      "[ 50%] \u001b[32m\u001b[1mLinking CXX executable test\u001b[0m\n",
      "[ 50%] Built target test\n",
      "\u001b[35m\u001b[1mScanning dependencies of target metnum\u001b[0m\n",
      "[ 60%] \u001b[32mBuilding CXX object CMakeFiles/metnum.dir/src/metnum.cpp.o\u001b[0m\n",
      "[ 70%] \u001b[32mBuilding CXX object CMakeFiles/metnum.dir/src/knn.cpp.o\u001b[0m\n",
      "\u001b[01m\u001b[K/home/zarthaxx/Desktop/metnum-tp2/src/knn.cpp:\u001b[m\u001b[K In member function ‘\u001b[01m\u001b[KVector KNNClassifier::predict(Matrix)\u001b[m\u001b[K’:\n",
      "\u001b[01m\u001b[K/home/zarthaxx/Desktop/metnum-tp2/src/knn.cpp:61:24:\u001b[m\u001b[K \u001b[01;35m\u001b[Kwarning: \u001b[m\u001b[Kunused variable ‘\u001b[01m\u001b[Kn\u001b[m\u001b[K’ [\u001b[01;35m\u001b[K-Wunused-variable\u001b[m\u001b[K]\n",
      "         for (neighbor& \u001b[01;35m\u001b[Kn\u001b[m\u001b[K : arr.k_nearest) {\n",
      "                        \u001b[01;35m\u001b[K^\u001b[m\u001b[K\n",
      "[ 80%] \u001b[32mBuilding CXX object CMakeFiles/metnum.dir/src/pca.cpp.o\u001b[0m\n",
      "[ 90%] \u001b[32mBuilding CXX object CMakeFiles/metnum.dir/src/eigen.cpp.o\u001b[0m\n",
      "[100%] \u001b[32m\u001b[1mLinking CXX shared module metnum.cpython-36m-x86_64-linux-gnu.so\u001b[0m\n",
      "[100%] Built target metnum\n",
      "\u001b[36mInstall the project...\u001b[0m\n",
      "-- Install configuration: \"Release\"\n",
      "-- Installing: /home/zarthaxx/Desktop/metnum-tp2/notebooks/metnum.cpython-36m-x86_64-linux-gnu.so\n"
     ]
    }
   ],
   "source": [
    "!cd .. && mkdir build\n",
    "!cd ../build/ && rm -rf *\n",
    "!cd ../build && cmake \\\n",
    "  -DPYTHON_EXECUTABLE=\"$(which python)\" \\\n",
    "  -DCMAKE_BUILD_TYPE=Release ..\n",
    "!cd ../build && make install"
   ]
  },
  {
   "cell_type": "code",
   "execution_count": 2,
   "metadata": {},
   "outputs": [
    {
     "name": "stdout",
     "output_type": "stream",
     "text": [
      "/home/zarthaxx/Desktop/metnum-tp2/notebooks\n",
      "Python 3.6.9\n"
     ]
    }
   ],
   "source": [
    "# Verifico la correcta instalación. Si no falla el import está OK\n",
    "!pwd\n",
    "!python --version\n",
    "import metnum\n"
   ]
  },
  {
   "cell_type": "code",
   "execution_count": 3,
   "metadata": {},
   "outputs": [],
   "source": [
    "import pandas as pd\n",
    "\n",
    "df = pd.DataFrame({'epsilon': pd.Series([], dtype='float'),\n",
    "                   'time': pd.Series([], dtype='float'),\n",
    "                   'error': pd.Series([], dtype='float')})"
   ]
  },
  {
   "cell_type": "code",
   "execution_count": 4,
   "metadata": {},
   "outputs": [
    {
     "name": "stdout",
     "output_type": "stream",
     "text": [
      "Diagonal\n",
      " [784 783 782 781 780 779 778 777 776 775 774 773 772 771 770 769 768 767\n",
      " 766 765 764 763 762 761 760 759 758 757 756 755]\n",
      "eps=1 => [time= 2.7860430150 err= 0.6516315155 ]\n",
      "[ 586.89742579  603.62451336  510.25690033  496.14766477  541.71935831\n",
      "  414.90454523  260.09756471  100.6117752    65.38837376   29.08550561\n",
      "   12.11674724    5.59597784 -780.44657948  307.20655825  562.25074076\n",
      "  530.26903271  494.56874311  417.3791778   269.57280874  144.80402762\n",
      "   84.93781612   57.92543551    5.63952927 -777.58619556  506.65554861\n",
      "  539.79403234  439.59141224  458.56015704  640.24573338  519.75942078]\n",
      "eps=0.1 => [time= 0.2504834400 err= 0.2073334416 ]\n",
      "[652.13199882 546.97288983 593.30580497 580.65074724 569.69776458\n",
      " 563.12601602 623.00893288 619.72515118 613.42240747 614.47510593\n",
      " 612.80656761 609.68838004 618.66875214 608.86118793 615.97025416\n",
      " 612.86805157 612.709765   623.1031322  610.81532957 616.89916185\n",
      " 613.41156504 619.76968451 615.57390102 618.95595341 617.60261227\n",
      " 620.09737362 621.17813063 615.3535459  625.52160245 607.1679747 ]\n",
      "eps=0.01 => [time= 0.2539424930 err= 0.1071966268 ]\n",
      "[705.12184811 685.41690067 673.38791704 684.37205875 676.14882207\n",
      " 682.68615412 693.93483437 682.10464297 694.40142451 681.04730859\n",
      " 685.71287899 691.64467495 683.62390166 686.67704443 687.84264552\n",
      " 683.9770531  689.96450691 694.7856734  683.72882359 687.37548991\n",
      " 682.19335267 695.55653829 685.27192352 688.51425555 688.9512711\n",
      " 691.31835147 683.18574213 686.56088243 692.09300327 680.03069705]\n",
      "eps=0.001 => [time= 0.3378458400 err= 0.0308481224 ]\n",
      "[753.62667739 746.0771293  748.07212946 743.46998677 744.67816374\n",
      " 743.6677563  751.10090462 745.20724045 748.70393425 747.41540381\n",
      " 747.11535866 742.14407971 750.76888477 743.60731468 751.13293636\n",
      " 742.81613604 745.53165752 740.99515438 751.58313965 742.4578362\n",
      " 747.03325505 741.57820252 748.7639486  742.05420579 742.21410786\n",
      " 743.22789635 747.00162467 743.10488566 744.04162178 741.32798651]\n",
      "eps=0.0001 => [time= 0.7024251770 err= 0.0051575934 ]\n",
      "[774.49450454 773.08065591 768.98018284 768.35127305 770.13873124\n",
      " 772.12703762 770.26233015 772.56831746 770.07363608 767.0229013\n",
      " 769.50045168 769.75225109 768.62517923 768.32769901 767.34511872\n",
      " 768.0549537  763.87739395 766.28563909 765.82755329 763.98075499\n",
      " 761.3701837  762.77553055 760.40690327 760.61203765 760.18985135\n",
      " 759.17186213 756.51583812 755.37036781 756.34310683 753.38291114]\n",
      "eps=1e-05 => [time= 2.7256998680 err= 0.0005205077 ]\n",
      "[782.01702196 778.41409023 779.21214684 779.14254907 779.43906352\n",
      " 777.26487279 776.59805187 777.50264288 777.64324235 773.39604725\n",
      " 775.21865572 772.45488973 772.90559382 770.12113275 771.47014678\n",
      " 770.38207867 769.70569035 766.27608201 766.11531245 761.87673664\n",
      " 764.07556781 763.6257925  763.52729417 759.63457541 758.09680997\n",
      " 758.7194226  757.38557372 758.31255199 755.68345537 756.55083874]\n",
      "eps=1e-06 => [time= 12.0283462490 err= 0.0000754736 ]\n",
      "[783.66466957 782.24274431 781.79014721 780.71979815 780.24144629\n",
      " 779.28229172 777.54197574 777.1780119  776.11688653 775.47720953\n",
      " 773.29096531 773.15050728 771.82187321 771.18920668 770.2565296\n",
      " 768.97670195 768.52556727 764.62294435 766.11450542 765.47351317\n",
      " 765.29280108 763.66043549 761.38356234 760.18160999 760.08595087\n",
      " 759.33831076 758.36248365 756.90245362 756.42792965 753.92919464]\n"
     ]
    }
   ],
   "source": [
    "import numpy as np\n",
    "import time\n",
    "\n",
    "MATRIX_SZ = 28*28\n",
    "N = 30\n",
    "EPS = -1\n",
    "EPS_N = 7\n",
    "\n",
    "results = []\n",
    "epsilons = [10 ** -(EPS+i) for i in range(1,EPS_N+1)]\n",
    "\n",
    "diag = np.arange(MATRIX_SZ,0,step = -1)\n",
    "\n",
    "diag_matrix = np.diag(diag)\n",
    "\n",
    "diag_matrix\n",
    "\n",
    "print(\"Diagonal\\n\", diag[:N])\n",
    "for eps in epsilons:\n",
    "    \n",
    "    t = time.process_time()\n",
    "    vals, vecs = metnum.get_first_eigenvalues(diag_matrix, N, epsilon=eps)\n",
    "    elapsed_time = time.process_time() - t\n",
    "    error = 1-np.sum(np.divide(vals, diag[:N]))/N\n",
    "    #df.append({\"epsilon\": 1, \"time\": 2,\"error\": 3}, ignore_index=True)\n",
    "    df = df.append({\"epsilon\" : eps, \"time\": elapsed_time, \"error\": error}, ignore_index=True)\n",
    "    \n",
    "    print(f\"eps={eps} => [time=\",\"{:.10f}\".format(elapsed_time),\"err=\",\"{:.10f}\".format(error),\"]\")\n",
    "    print(vals)"
   ]
  },
  {
   "cell_type": "code",
   "execution_count": 7,
   "metadata": {},
   "outputs": [
    {
     "data": {
      "text/plain": [
       "[None, None]"
      ]
     },
     "execution_count": 7,
     "metadata": {},
     "output_type": "execute_result"
    },
    {
     "data": {
      "image/png": "[encoded data removed]",
      "text/plain": [
       "<Figure size 720x360 with 1 Axes>"
      ]
     },
     "metadata": {
      "needs_background": "light"
     },
     "output_type": "display_data"
    }
   ],
   "source": [
    "import matplotlib.pyplot as plt\n",
    "import seaborn as sns\n",
    "\n",
    "plt.figure(figsize=(10, 5))\n",
    "\n",
    "eps_time = sns.scatterplot(x=\"epsilon\", y=\"time\", data=df, marker=\"o\", color=\"b\")\n",
    "eps_time.set(xscale=\"log\", yscale=\"linear\")"
   ]
  },
  {
   "cell_type": "code",
   "execution_count": 6,
   "metadata": {},
   "outputs": [
    {
     "data": {
      "text/plain": [
       "[None, None]"
      ]
     },
     "execution_count": 6,
     "metadata": {},
     "output_type": "execute_result"
    },
    {
     "data": {
      "image/png": "[encoded data removed]",
      "text/plain": [
       "<Figure size 720x360 with 1 Axes>"
      ]
     },
     "metadata": {
      "needs_background": "light"
     },
     "output_type": "display_data"
    }
   ],
   "source": [
    "\n",
    "plt.figure(figsize=(10, 5))\n",
    "\n",
    "eps_error = sns.scatterplot(x=\"epsilon\", y=\"error\", data=df, marker=\"o\", color=\"b\")\n",
    "eps_error.set(xscale=\"log\", yscale=\"linear\")\n"
   ]
  },
  {
   "cell_type": "code",
   "execution_count": null,
   "metadata": {},
   "outputs": [],
   "source": []
  },
  {
   "cell_type": "code",
   "execution_count": null,
   "metadata": {},
   "outputs": [],
   "source": []
  },
  {
   "cell_type": "code",
   "execution_count": null,
   "metadata": {},
   "outputs": [],
   "source": []
  },
  {
   "cell_type": "code",
   "execution_count": null,
   "metadata": {},
   "outputs": [],
   "source": []
  }
 ],
 "metadata": {
  "kernelspec": {
   "display_name": "Python 3",
   "language": "python",
   "name": "python3"
  },
  "language_info": {
   "codemirror_mode": {
    "name": "ipython",
    "version": 3
   },
   "file_extension": ".py",
   "mimetype": "text/x-python",
   "name": "python",
   "nbconvert_exporter": "python",
   "pygments_lexer": "ipython3",
   "version": "3.6.9"
  }
 },
 "nbformat": 4,
 "nbformat_minor": 2
}
